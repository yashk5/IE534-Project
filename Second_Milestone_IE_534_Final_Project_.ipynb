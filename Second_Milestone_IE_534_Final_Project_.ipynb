{
  "cells": [
    {
      "cell_type": "markdown",
      "metadata": {
        "id": "Nrq4iUcGGp1Y"
      },
      "source": [
        "# Second Milestone Submitted by - \n",
        "- Yash Kalyani (yashk5@illinois.edu)\n",
        "- Yash Bajaj (yashpb2@illinois.edu)\n",
        "- Mayank Agarwal (mayanka5@illinois.edu)\n",
        "- Debapratim Ghosh (dg19@illinois.edu)"
      ]
    },
    {
      "cell_type": "markdown",
      "metadata": {
        "id": "cMCKiRlRcqJs"
      },
      "source": [
        "# Import Libraries"
      ]
    },
    {
      "cell_type": "code",
      "execution_count": null,
      "metadata": {
        "id": "NwJV-PQ-YuXE"
      },
      "outputs": [],
      "source": [
        "import pandas as pd\n",
        "import numpy as np\n",
        "from pydrive.auth import GoogleAuth\n",
        "from google.colab import drive\n",
        "from pydrive.drive import GoogleDrive\n",
        "from google.colab import auth\n",
        "from oauth2client.client import GoogleCredentials\n",
        "#from fancyimpute import IterativeImputer as MICE"
      ]
    },
    {
      "cell_type": "code",
      "execution_count": null,
      "metadata": {
        "id": "N4CrjVxJbG0A"
      },
      "outputs": [],
      "source": [
        "auth.authenticate_user()\n",
        "gauth = GoogleAuth()\n",
        "gauth.credentials = GoogleCredentials.get_application_default()\n",
        "drive = GoogleDrive(gauth)"
      ]
    },
    {
      "cell_type": "markdown",
      "metadata": {
        "id": "vJVX0CKQeNQN"
      },
      "source": [
        "---------------------------------------------"
      ]
    },
    {
      "cell_type": "markdown",
      "metadata": {
        "id": "7J_G-jHQcuaN"
      },
      "source": [
        "# Access Data"
      ]
    },
    {
      "cell_type": "markdown",
      "metadata": {
        "id": "kAZ5VCzDcUd5"
      },
      "source": [
        "To access data, uncomment the required code block."
      ]
    },
    {
      "cell_type": "code",
      "execution_count": null,
      "metadata": {
        "colab": {
          "base_uri": "https://localhost:8080/",
          "height": 484
        },
        "id": "EpFeMJ-rbMOf",
        "outputId": "68243179-9a74-41db-ea4f-1a3a300ed24b"
      },
      "outputs": [
        {
          "output_type": "execute_result",
          "data": {
            "text/plain": [
              "         ID Case Number                Date                  Block  IUCR  \\\n",
              "0  10224738    HY411648 2015-09-05 13:30:00        043XX S WOOD ST  0486   \n",
              "1  10224739    HY411615 2015-09-04 11:30:00    008XX N CENTRAL AVE  0870   \n",
              "2  11646166    JC213529 2018-09-01 00:01:00  082XX S INGLESIDE AVE  0810   \n",
              "3  10224740    HY411595 2015-09-05 12:45:00      035XX W BARRY AVE  2023   \n",
              "4  10224741    HY411610 2015-09-05 13:00:00    0000X N LARAMIE AVE  0560   \n",
              "\n",
              "  Primary Type              Description Location Description  Arrest  \\\n",
              "0      BATTERY  DOMESTIC BATTERY SIMPLE            RESIDENCE   False   \n",
              "1        THEFT           POCKET-PICKING              CTA BUS   False   \n",
              "2        THEFT                OVER $500            RESIDENCE   False   \n",
              "3    NARCOTICS    POSS: HEROIN(BRN/TAN)             SIDEWALK    True   \n",
              "4      ASSAULT                   SIMPLE            APARTMENT   False   \n",
              "\n",
              "   Domestic  ...  Community Area  FBI Code  X Coordinate  Y Coordinate  Year  \\\n",
              "0      True  ...            61.0       08B     1165074.0     1875917.0  2015   \n",
              "1     False  ...            25.0        06     1138875.0     1904869.0  2015   \n",
              "2      True  ...            44.0        06           NaN           NaN  2018   \n",
              "3     False  ...            21.0        18     1152037.0     1920384.0  2015   \n",
              "4      True  ...            25.0       08A     1141706.0     1900086.0  2015   \n",
              "\n",
              "               Updated On   Latitude  Longitude  \\\n",
              "0  02/10/2018 03:50:01 PM  41.815117 -87.670000   \n",
              "1  02/10/2018 03:50:01 PM  41.895080 -87.765400   \n",
              "2  04/06/2019 04:04:43 PM        NaN        NaN   \n",
              "3  02/10/2018 03:50:01 PM  41.937406 -87.716650   \n",
              "4  02/10/2018 03:50:01 PM  41.881903 -87.755121   \n",
              "\n",
              "                        Location      tsDate  \n",
              "0  (41.815117282, -87.669999562)  1441459800  \n",
              "1  (41.895080471, -87.765400451)  1441366200  \n",
              "2                            NaN  1535760060  \n",
              "3  (41.937405765, -87.716649687)  1441457100  \n",
              "4  (41.881903443, -87.755121152)  1441458000  \n",
              "\n",
              "[5 rows x 23 columns]"
            ],
            "text/html": [
              "\n",
              "  <div id=\"df-8b755262-d5eb-492a-92b2-7ab299c8cfb3\">\n",
              "    <div class=\"colab-df-container\">\n",
              "      <div>\n",
              "<style scoped>\n",
              "    .dataframe tbody tr th:only-of-type {\n",
              "        vertical-align: middle;\n",
              "    }\n",
              "\n",
              "    .dataframe tbody tr th {\n",
              "        vertical-align: top;\n",
              "    }\n",
              "\n",
              "    .dataframe thead th {\n",
              "        text-align: right;\n",
              "    }\n",
              "</style>\n",
              "<table border=\"1\" class=\"dataframe\">\n",
              "  <thead>\n",
              "    <tr style=\"text-align: right;\">\n",
              "      <th></th>\n",
              "      <th>ID</th>\n",
              "      <th>Case Number</th>\n",
              "      <th>Date</th>\n",
              "      <th>Block</th>\n",
              "      <th>IUCR</th>\n",
              "      <th>Primary Type</th>\n",
              "      <th>Description</th>\n",
              "      <th>Location Description</th>\n",
              "      <th>Arrest</th>\n",
              "      <th>Domestic</th>\n",
              "      <th>...</th>\n",
              "      <th>Community Area</th>\n",
              "      <th>FBI Code</th>\n",
              "      <th>X Coordinate</th>\n",
              "      <th>Y Coordinate</th>\n",
              "      <th>Year</th>\n",
              "      <th>Updated On</th>\n",
              "      <th>Latitude</th>\n",
              "      <th>Longitude</th>\n",
              "      <th>Location</th>\n",
              "      <th>tsDate</th>\n",
              "    </tr>\n",
              "  </thead>\n",
              "  <tbody>\n",
              "    <tr>\n",
              "      <th>0</th>\n",
              "      <td>10224738</td>\n",
              "      <td>HY411648</td>\n",
              "      <td>2015-09-05 13:30:00</td>\n",
              "      <td>043XX S WOOD ST</td>\n",
              "      <td>0486</td>\n",
              "      <td>BATTERY</td>\n",
              "      <td>DOMESTIC BATTERY SIMPLE</td>\n",
              "      <td>RESIDENCE</td>\n",
              "      <td>False</td>\n",
              "      <td>True</td>\n",
              "      <td>...</td>\n",
              "      <td>61.0</td>\n",
              "      <td>08B</td>\n",
              "      <td>1165074.0</td>\n",
              "      <td>1875917.0</td>\n",
              "      <td>2015</td>\n",
              "      <td>02/10/2018 03:50:01 PM</td>\n",
              "      <td>41.815117</td>\n",
              "      <td>-87.670000</td>\n",
              "      <td>(41.815117282, -87.669999562)</td>\n",
              "      <td>1441459800</td>\n",
              "    </tr>\n",
              "    <tr>\n",
              "      <th>1</th>\n",
              "      <td>10224739</td>\n",
              "      <td>HY411615</td>\n",
              "      <td>2015-09-04 11:30:00</td>\n",
              "      <td>008XX N CENTRAL AVE</td>\n",
              "      <td>0870</td>\n",
              "      <td>THEFT</td>\n",
              "      <td>POCKET-PICKING</td>\n",
              "      <td>CTA BUS</td>\n",
              "      <td>False</td>\n",
              "      <td>False</td>\n",
              "      <td>...</td>\n",
              "      <td>25.0</td>\n",
              "      <td>06</td>\n",
              "      <td>1138875.0</td>\n",
              "      <td>1904869.0</td>\n",
              "      <td>2015</td>\n",
              "      <td>02/10/2018 03:50:01 PM</td>\n",
              "      <td>41.895080</td>\n",
              "      <td>-87.765400</td>\n",
              "      <td>(41.895080471, -87.765400451)</td>\n",
              "      <td>1441366200</td>\n",
              "    </tr>\n",
              "    <tr>\n",
              "      <th>2</th>\n",
              "      <td>11646166</td>\n",
              "      <td>JC213529</td>\n",
              "      <td>2018-09-01 00:01:00</td>\n",
              "      <td>082XX S INGLESIDE AVE</td>\n",
              "      <td>0810</td>\n",
              "      <td>THEFT</td>\n",
              "      <td>OVER $500</td>\n",
              "      <td>RESIDENCE</td>\n",
              "      <td>False</td>\n",
              "      <td>True</td>\n",
              "      <td>...</td>\n",
              "      <td>44.0</td>\n",
              "      <td>06</td>\n",
              "      <td>NaN</td>\n",
              "      <td>NaN</td>\n",
              "      <td>2018</td>\n",
              "      <td>04/06/2019 04:04:43 PM</td>\n",
              "      <td>NaN</td>\n",
              "      <td>NaN</td>\n",
              "      <td>NaN</td>\n",
              "      <td>1535760060</td>\n",
              "    </tr>\n",
              "    <tr>\n",
              "      <th>3</th>\n",
              "      <td>10224740</td>\n",
              "      <td>HY411595</td>\n",
              "      <td>2015-09-05 12:45:00</td>\n",
              "      <td>035XX W BARRY AVE</td>\n",
              "      <td>2023</td>\n",
              "      <td>NARCOTICS</td>\n",
              "      <td>POSS: HEROIN(BRN/TAN)</td>\n",
              "      <td>SIDEWALK</td>\n",
              "      <td>True</td>\n",
              "      <td>False</td>\n",
              "      <td>...</td>\n",
              "      <td>21.0</td>\n",
              "      <td>18</td>\n",
              "      <td>1152037.0</td>\n",
              "      <td>1920384.0</td>\n",
              "      <td>2015</td>\n",
              "      <td>02/10/2018 03:50:01 PM</td>\n",
              "      <td>41.937406</td>\n",
              "      <td>-87.716650</td>\n",
              "      <td>(41.937405765, -87.716649687)</td>\n",
              "      <td>1441457100</td>\n",
              "    </tr>\n",
              "    <tr>\n",
              "      <th>4</th>\n",
              "      <td>10224741</td>\n",
              "      <td>HY411610</td>\n",
              "      <td>2015-09-05 13:00:00</td>\n",
              "      <td>0000X N LARAMIE AVE</td>\n",
              "      <td>0560</td>\n",
              "      <td>ASSAULT</td>\n",
              "      <td>SIMPLE</td>\n",
              "      <td>APARTMENT</td>\n",
              "      <td>False</td>\n",
              "      <td>True</td>\n",
              "      <td>...</td>\n",
              "      <td>25.0</td>\n",
              "      <td>08A</td>\n",
              "      <td>1141706.0</td>\n",
              "      <td>1900086.0</td>\n",
              "      <td>2015</td>\n",
              "      <td>02/10/2018 03:50:01 PM</td>\n",
              "      <td>41.881903</td>\n",
              "      <td>-87.755121</td>\n",
              "      <td>(41.881903443, -87.755121152)</td>\n",
              "      <td>1441458000</td>\n",
              "    </tr>\n",
              "  </tbody>\n",
              "</table>\n",
              "<p>5 rows × 23 columns</p>\n",
              "</div>\n",
              "      <button class=\"colab-df-convert\" onclick=\"convertToInteractive('df-8b755262-d5eb-492a-92b2-7ab299c8cfb3')\"\n",
              "              title=\"Convert this dataframe to an interactive table.\"\n",
              "              style=\"display:none;\">\n",
              "        \n",
              "  <svg xmlns=\"http://www.w3.org/2000/svg\" height=\"24px\"viewBox=\"0 0 24 24\"\n",
              "       width=\"24px\">\n",
              "    <path d=\"M0 0h24v24H0V0z\" fill=\"none\"/>\n",
              "    <path d=\"M18.56 5.44l.94 2.06.94-2.06 2.06-.94-2.06-.94-.94-2.06-.94 2.06-2.06.94zm-11 1L8.5 8.5l.94-2.06 2.06-.94-2.06-.94L8.5 2.5l-.94 2.06-2.06.94zm10 10l.94 2.06.94-2.06 2.06-.94-2.06-.94-.94-2.06-.94 2.06-2.06.94z\"/><path d=\"M17.41 7.96l-1.37-1.37c-.4-.4-.92-.59-1.43-.59-.52 0-1.04.2-1.43.59L10.3 9.45l-7.72 7.72c-.78.78-.78 2.05 0 2.83L4 21.41c.39.39.9.59 1.41.59.51 0 1.02-.2 1.41-.59l7.78-7.78 2.81-2.81c.8-.78.8-2.07 0-2.86zM5.41 20L4 18.59l7.72-7.72 1.47 1.35L5.41 20z\"/>\n",
              "  </svg>\n",
              "      </button>\n",
              "      \n",
              "  <style>\n",
              "    .colab-df-container {\n",
              "      display:flex;\n",
              "      flex-wrap:wrap;\n",
              "      gap: 12px;\n",
              "    }\n",
              "\n",
              "    .colab-df-convert {\n",
              "      background-color: #E8F0FE;\n",
              "      border: none;\n",
              "      border-radius: 50%;\n",
              "      cursor: pointer;\n",
              "      display: none;\n",
              "      fill: #1967D2;\n",
              "      height: 32px;\n",
              "      padding: 0 0 0 0;\n",
              "      width: 32px;\n",
              "    }\n",
              "\n",
              "    .colab-df-convert:hover {\n",
              "      background-color: #E2EBFA;\n",
              "      box-shadow: 0px 1px 2px rgba(60, 64, 67, 0.3), 0px 1px 3px 1px rgba(60, 64, 67, 0.15);\n",
              "      fill: #174EA6;\n",
              "    }\n",
              "\n",
              "    [theme=dark] .colab-df-convert {\n",
              "      background-color: #3B4455;\n",
              "      fill: #D2E3FC;\n",
              "    }\n",
              "\n",
              "    [theme=dark] .colab-df-convert:hover {\n",
              "      background-color: #434B5C;\n",
              "      box-shadow: 0px 1px 3px 1px rgba(0, 0, 0, 0.15);\n",
              "      filter: drop-shadow(0px 1px 2px rgba(0, 0, 0, 0.3));\n",
              "      fill: #FFFFFF;\n",
              "    }\n",
              "  </style>\n",
              "\n",
              "      <script>\n",
              "        const buttonEl =\n",
              "          document.querySelector('#df-8b755262-d5eb-492a-92b2-7ab299c8cfb3 button.colab-df-convert');\n",
              "        buttonEl.style.display =\n",
              "          google.colab.kernel.accessAllowed ? 'block' : 'none';\n",
              "\n",
              "        async function convertToInteractive(key) {\n",
              "          const element = document.querySelector('#df-8b755262-d5eb-492a-92b2-7ab299c8cfb3');\n",
              "          const dataTable =\n",
              "            await google.colab.kernel.invokeFunction('convertToInteractive',\n",
              "                                                     [key], {});\n",
              "          if (!dataTable) return;\n",
              "\n",
              "          const docLinkHtml = 'Like what you see? Visit the ' +\n",
              "            '<a target=\"_blank\" href=https://colab.research.google.com/notebooks/data_table.ipynb>data table notebook</a>'\n",
              "            + ' to learn more about interactive tables.';\n",
              "          element.innerHTML = '';\n",
              "          dataTable['output_type'] = 'display_data';\n",
              "          await google.colab.output.renderOutput(dataTable, element);\n",
              "          const docLink = document.createElement('div');\n",
              "          docLink.innerHTML = docLinkHtml;\n",
              "          element.appendChild(docLink);\n",
              "        }\n",
              "      </script>\n",
              "    </div>\n",
              "  </div>\n",
              "  "
            ]
          },
          "metadata": {},
          "execution_count": 3
        }
      ],
      "source": [
        "# # For CSV file\n",
        "# file_id = '1FNLJjNeEmy-HzUA_ghtjRYeJcXYJiGHS'\n",
        "# download = drive.CreateFile({'id': file_id})\n",
        "# download.GetContentFile('ChicagoData.csv')\n",
        "# data = pd.read_csv(\"ChicagoData.csv\")\n",
        "# data.head()\n",
        "\n",
        "# For Pickle Data file\n",
        "file_id = '1iNTFeAEgyIVzXENvR6Hogg3sNSfIZPkX'\n",
        "download = drive.CreateFile({'id': file_id})\n",
        "download.GetContentFile('data.pkl')\n",
        "data = pd.read_pickle(\"data.pkl\")\n",
        "data.head()\n",
        "\n",
        "# For Pickle Debug Data file\n",
        "file_id = '18tivYo3gBtl3TOjP7xek6KMdP0I3e83y'\n",
        "download = drive.CreateFile({'id': file_id})\n",
        "download.GetContentFile('debug.pkl')\n",
        "data_debug = pd.read_pickle(\"debug.pkl\")\n",
        "data_debug.head()"
      ]
    },
    {
      "cell_type": "markdown",
      "metadata": {
        "id": "eN7ILz3loPqN"
      },
      "source": [
        "-------------------------------------------"
      ]
    },
    {
      "cell_type": "markdown",
      "metadata": {
        "id": "96IhTDoZeCfz"
      },
      "source": [
        "# Exploratory Data Analysis"
      ]
    },
    {
      "cell_type": "markdown",
      "metadata": {
        "id": "vGBPxzygqcgs"
      },
      "source": [
        "### Checking for Missing Values in the dataset"
      ]
    },
    {
      "cell_type": "code",
      "execution_count": null,
      "metadata": {
        "colab": {
          "base_uri": "https://localhost:8080/"
        },
        "id": "A431Q9L6qZzh",
        "outputId": "5ed7ae22-afda-403d-8c26-b6f8e044140f"
      },
      "outputs": [
        {
          "output_type": "execute_result",
          "data": {
            "text/plain": [
              "ID                      0.00\n",
              "Case Number             0.00\n",
              "Date                    0.00\n",
              "Block                   0.00\n",
              "IUCR                    0.00\n",
              "Primary Type            0.00\n",
              "Description             0.00\n",
              "Location Description    0.13\n",
              "Arrest                  0.00\n",
              "Domestic                0.00\n",
              "Beat                    0.00\n",
              "District                0.00\n",
              "Ward                    8.04\n",
              "Community Area          8.02\n",
              "FBI Code                0.00\n",
              "X Coordinate            1.06\n",
              "Y Coordinate            1.06\n",
              "Year                    0.00\n",
              "Updated On              0.00\n",
              "Latitude                1.06\n",
              "Longitude               1.06\n",
              "Location                1.06\n",
              "tsDate                  0.00\n",
              "dtype: float64"
            ]
          },
          "metadata": {},
          "execution_count": 4
        }
      ],
      "source": [
        "round(data.isnull().sum()*100/data.shape[0],2)"
      ]
    },
    {
      "cell_type": "markdown",
      "metadata": {
        "id": "6rPOqUdoqk9n"
      },
      "source": [
        "We can see that there are a few  variables like Location Description, X, Y Coordinate and Latitude and Longitude which have 1% or less missing values. We can remove these rows from our dataframe . On the other hand Ward and Community area have approx 8% missing values. We can replace these missing values with the word 'Missing' to preserve more information without dropping rows."
      ]
    },
    {
      "cell_type": "code",
      "execution_count": null,
      "metadata": {
        "id": "AxytZiQArDcb"
      },
      "outputs": [],
      "source": [
        "## Removing missing values in the dataframe for location related variables \n",
        "\n",
        "data = data.dropna(subset=['Location Description', 'X Coordinate','Y Coordinate','Latitude','Longitude','Location'])\n",
        "data_debug=data_debug.dropna(subset=['Location Description', 'X Coordinate','Y Coordinate','Latitude','Longitude','Location'])\n",
        "## Replacing the remaining missing values with 'Missing'\n",
        "\n",
        "data.fillna('Missing',inplace=True)\n",
        "data_debug.fillna('Missing',inplace=True)"
      ]
    },
    {
      "cell_type": "code",
      "execution_count": null,
      "metadata": {
        "colab": {
          "base_uri": "https://localhost:8080/"
        },
        "id": "YFj2Xrm8rpF_",
        "outputId": "3866df4f-c43f-42fb-f1e4-2058be5c2a04"
      },
      "outputs": [
        {
          "output_type": "execute_result",
          "data": {
            "text/plain": [
              "ID                      0.0\n",
              "Case Number             0.0\n",
              "Date                    0.0\n",
              "Block                   0.0\n",
              "IUCR                    0.0\n",
              "Primary Type            0.0\n",
              "Description             0.0\n",
              "Location Description    0.0\n",
              "Arrest                  0.0\n",
              "Domestic                0.0\n",
              "Beat                    0.0\n",
              "District                0.0\n",
              "Ward                    0.0\n",
              "Community Area          0.0\n",
              "FBI Code                0.0\n",
              "X Coordinate            0.0\n",
              "Y Coordinate            0.0\n",
              "Year                    0.0\n",
              "Updated On              0.0\n",
              "Latitude                0.0\n",
              "Longitude               0.0\n",
              "Location                0.0\n",
              "tsDate                  0.0\n",
              "dtype: float64"
            ]
          },
          "metadata": {},
          "execution_count": 6
        }
      ],
      "source": [
        "round(data.isnull().sum()*100/data.shape[0],2)"
      ]
    },
    {
      "cell_type": "markdown",
      "metadata": {
        "id": "asc1SFbgrxCW"
      },
      "source": [
        "We can see that there are no longer any missing values in our dataset"
      ]
    },
    {
      "cell_type": "markdown",
      "metadata": {
        "id": "PmbvSsOvm2gu"
      },
      "source": [
        "### Checking the data type of each column in the datframe"
      ]
    },
    {
      "cell_type": "code",
      "execution_count": null,
      "metadata": {
        "colab": {
          "base_uri": "https://localhost:8080/"
        },
        "id": "22Zeb2nCi0re",
        "outputId": "8051caf3-2fb0-4b35-f407-0ff4a9de47b7"
      },
      "outputs": [
        {
          "output_type": "stream",
          "name": "stdout",
          "text": [
            "<class 'pandas.core.frame.DataFrame'>\n",
            "Int64Index: 7564117 entries, 0 to 7651596\n",
            "Data columns (total 23 columns):\n",
            " #   Column                Dtype         \n",
            "---  ------                -----         \n",
            " 0   ID                    int64         \n",
            " 1   Case Number           object        \n",
            " 2   Date                  datetime64[ns]\n",
            " 3   Block                 object        \n",
            " 4   IUCR                  object        \n",
            " 5   Primary Type          object        \n",
            " 6   Description           object        \n",
            " 7   Location Description  object        \n",
            " 8   Arrest                bool          \n",
            " 9   Domestic              bool          \n",
            " 10  Beat                  int64         \n",
            " 11  District              object        \n",
            " 12  Ward                  object        \n",
            " 13  Community Area        object        \n",
            " 14  FBI Code              object        \n",
            " 15  X Coordinate          float64       \n",
            " 16  Y Coordinate          float64       \n",
            " 17  Year                  int64         \n",
            " 18  Updated On            object        \n",
            " 19  Latitude              float64       \n",
            " 20  Longitude             float64       \n",
            " 21  Location              object        \n",
            " 22  tsDate                int64         \n",
            "dtypes: bool(2), datetime64[ns](1), float64(4), int64(4), object(12)\n",
            "memory usage: 1.3+ GB\n"
          ]
        }
      ],
      "source": [
        "data.info()"
      ]
    },
    {
      "cell_type": "markdown",
      "metadata": {
        "id": "lLNaP_sCnDNy"
      },
      "source": [
        "We can observe that there 4 columns which are integers, 1 date type column, 2 boolean columns, 7 numerical columns and 10 categorical columns. Let us try separating them by data type and get the column names in the form of a dictionary by data type. Additionally, we can observe that the ID column is not relevant for our problem statement and therefore we can drop that. Also, we can convert the columns Beat and Year to categorical variables or objects ."
      ]
    },
    {
      "cell_type": "code",
      "execution_count": null,
      "metadata": {
        "id": "FEnozOHkv89g"
      },
      "outputs": [],
      "source": [
        "## Dropping ID column \n",
        "\n",
        "data=data.drop(['ID'], axis=1)\n",
        "data_debug=data_debug.drop(['ID'], axis=1)\n",
        "## Changing Data type of Year and Beat\n",
        "\n",
        "data[['Beat','Year']] = data[['Beat','Year']].astype(str)\n",
        "data_debug[['Beat','Year']] = data_debug[['Beat','Year']].astype(str)"
      ]
    },
    {
      "cell_type": "code",
      "execution_count": null,
      "metadata": {
        "id": "UsFgbvrzqE3u"
      },
      "outputs": [],
      "source": [
        "g =data.columns.to_series().groupby(data.dtypes).groups\n",
        "data_col_dict={k.name: v for k, v in g.items()}\n",
        "int_col=data_col_dict['int64']\n",
        "datetime_col=data_col_dict['datetime64[ns]']\n",
        "bool_col=data_col_dict['bool']\n",
        "num_col=data_col_dict['float64']\n",
        "str_col=data_col_dict['object']"
      ]
    },
    {
      "cell_type": "code",
      "execution_count": null,
      "metadata": {
        "colab": {
          "base_uri": "https://localhost:8080/"
        },
        "id": "hHlMOCMsyTHr",
        "outputId": "516c878e-50ac-4f4a-b30d-acd880eb1101"
      },
      "outputs": [
        {
          "output_type": "execute_result",
          "data": {
            "text/plain": [
              "{'datetime64[ns]': Index(['Date'], dtype='object'),\n",
              " 'bool': Index(['Arrest', 'Domestic'], dtype='object'),\n",
              " 'int64': Index(['tsDate'], dtype='object'),\n",
              " 'float64': Index(['X Coordinate', 'Y Coordinate', 'Latitude', 'Longitude'], dtype='object'),\n",
              " 'object': Index(['Case Number', 'Block', 'IUCR', 'Primary Type', 'Description',\n",
              "        'Location Description', 'Beat', 'District', 'Ward', 'Community Area',\n",
              "        'FBI Code', 'Year', 'Updated On', 'Location'],\n",
              "       dtype='object')}"
            ]
          },
          "metadata": {},
          "execution_count": 10
        }
      ],
      "source": [
        "data_col_dict"
      ]
    },
    {
      "cell_type": "markdown",
      "metadata": {
        "id": "46etR04Sr5Uy"
      },
      "source": [
        "## Exploratory Analysis"
      ]
    },
    {
      "cell_type": "markdown",
      "metadata": {
        "id": "1FKthQU4sC-7"
      },
      "source": [
        "Now let us perform exploratory analysis on each column type and try to identify any patterns with the target variable "
      ]
    },
    {
      "cell_type": "markdown",
      "metadata": {
        "id": "VhM-PufFusQm"
      },
      "source": [
        "### Numerical columns"
      ]
    },
    {
      "cell_type": "code",
      "execution_count": null,
      "metadata": {
        "colab": {
          "base_uri": "https://localhost:8080/",
          "height": 297
        },
        "id": "iDE6jVUnWhqZ",
        "outputId": "28daa28f-8f34-45d8-827a-58cd2b876b8f"
      },
      "outputs": [
        {
          "output_type": "execute_result",
          "data": {
            "text/plain": [
              "       X Coordinate  Y Coordinate    Latitude   Longitude\n",
              "count    7564117.00    7564117.00  7564117.00  7564117.00\n",
              "mean     1164587.91    1885756.52       41.84      -87.67\n",
              "std        16853.08      32280.68        0.09        0.06\n",
              "min            0.00          0.00       36.62      -91.69\n",
              "25%      1152967.00    1859071.00       41.77      -87.71\n",
              "50%      1166090.00    1890701.00       41.86      -87.67\n",
              "75%      1176365.00    1909229.00       41.91      -87.63\n",
              "max      1205119.00    1951622.00       42.02      -87.52"
            ],
            "text/html": [
              "\n",
              "  <div id=\"df-b223a091-d518-416f-af57-1073bf2e187c\">\n",
              "    <div class=\"colab-df-container\">\n",
              "      <div>\n",
              "<style scoped>\n",
              "    .dataframe tbody tr th:only-of-type {\n",
              "        vertical-align: middle;\n",
              "    }\n",
              "\n",
              "    .dataframe tbody tr th {\n",
              "        vertical-align: top;\n",
              "    }\n",
              "\n",
              "    .dataframe thead th {\n",
              "        text-align: right;\n",
              "    }\n",
              "</style>\n",
              "<table border=\"1\" class=\"dataframe\">\n",
              "  <thead>\n",
              "    <tr style=\"text-align: right;\">\n",
              "      <th></th>\n",
              "      <th>X Coordinate</th>\n",
              "      <th>Y Coordinate</th>\n",
              "      <th>Latitude</th>\n",
              "      <th>Longitude</th>\n",
              "    </tr>\n",
              "  </thead>\n",
              "  <tbody>\n",
              "    <tr>\n",
              "      <th>count</th>\n",
              "      <td>7564117.00</td>\n",
              "      <td>7564117.00</td>\n",
              "      <td>7564117.00</td>\n",
              "      <td>7564117.00</td>\n",
              "    </tr>\n",
              "    <tr>\n",
              "      <th>mean</th>\n",
              "      <td>1164587.91</td>\n",
              "      <td>1885756.52</td>\n",
              "      <td>41.84</td>\n",
              "      <td>-87.67</td>\n",
              "    </tr>\n",
              "    <tr>\n",
              "      <th>std</th>\n",
              "      <td>16853.08</td>\n",
              "      <td>32280.68</td>\n",
              "      <td>0.09</td>\n",
              "      <td>0.06</td>\n",
              "    </tr>\n",
              "    <tr>\n",
              "      <th>min</th>\n",
              "      <td>0.00</td>\n",
              "      <td>0.00</td>\n",
              "      <td>36.62</td>\n",
              "      <td>-91.69</td>\n",
              "    </tr>\n",
              "    <tr>\n",
              "      <th>25%</th>\n",
              "      <td>1152967.00</td>\n",
              "      <td>1859071.00</td>\n",
              "      <td>41.77</td>\n",
              "      <td>-87.71</td>\n",
              "    </tr>\n",
              "    <tr>\n",
              "      <th>50%</th>\n",
              "      <td>1166090.00</td>\n",
              "      <td>1890701.00</td>\n",
              "      <td>41.86</td>\n",
              "      <td>-87.67</td>\n",
              "    </tr>\n",
              "    <tr>\n",
              "      <th>75%</th>\n",
              "      <td>1176365.00</td>\n",
              "      <td>1909229.00</td>\n",
              "      <td>41.91</td>\n",
              "      <td>-87.63</td>\n",
              "    </tr>\n",
              "    <tr>\n",
              "      <th>max</th>\n",
              "      <td>1205119.00</td>\n",
              "      <td>1951622.00</td>\n",
              "      <td>42.02</td>\n",
              "      <td>-87.52</td>\n",
              "    </tr>\n",
              "  </tbody>\n",
              "</table>\n",
              "</div>\n",
              "      <button class=\"colab-df-convert\" onclick=\"convertToInteractive('df-b223a091-d518-416f-af57-1073bf2e187c')\"\n",
              "              title=\"Convert this dataframe to an interactive table.\"\n",
              "              style=\"display:none;\">\n",
              "        \n",
              "  <svg xmlns=\"http://www.w3.org/2000/svg\" height=\"24px\"viewBox=\"0 0 24 24\"\n",
              "       width=\"24px\">\n",
              "    <path d=\"M0 0h24v24H0V0z\" fill=\"none\"/>\n",
              "    <path d=\"M18.56 5.44l.94 2.06.94-2.06 2.06-.94-2.06-.94-.94-2.06-.94 2.06-2.06.94zm-11 1L8.5 8.5l.94-2.06 2.06-.94-2.06-.94L8.5 2.5l-.94 2.06-2.06.94zm10 10l.94 2.06.94-2.06 2.06-.94-2.06-.94-.94-2.06-.94 2.06-2.06.94z\"/><path d=\"M17.41 7.96l-1.37-1.37c-.4-.4-.92-.59-1.43-.59-.52 0-1.04.2-1.43.59L10.3 9.45l-7.72 7.72c-.78.78-.78 2.05 0 2.83L4 21.41c.39.39.9.59 1.41.59.51 0 1.02-.2 1.41-.59l7.78-7.78 2.81-2.81c.8-.78.8-2.07 0-2.86zM5.41 20L4 18.59l7.72-7.72 1.47 1.35L5.41 20z\"/>\n",
              "  </svg>\n",
              "      </button>\n",
              "      \n",
              "  <style>\n",
              "    .colab-df-container {\n",
              "      display:flex;\n",
              "      flex-wrap:wrap;\n",
              "      gap: 12px;\n",
              "    }\n",
              "\n",
              "    .colab-df-convert {\n",
              "      background-color: #E8F0FE;\n",
              "      border: none;\n",
              "      border-radius: 50%;\n",
              "      cursor: pointer;\n",
              "      display: none;\n",
              "      fill: #1967D2;\n",
              "      height: 32px;\n",
              "      padding: 0 0 0 0;\n",
              "      width: 32px;\n",
              "    }\n",
              "\n",
              "    .colab-df-convert:hover {\n",
              "      background-color: #E2EBFA;\n",
              "      box-shadow: 0px 1px 2px rgba(60, 64, 67, 0.3), 0px 1px 3px 1px rgba(60, 64, 67, 0.15);\n",
              "      fill: #174EA6;\n",
              "    }\n",
              "\n",
              "    [theme=dark] .colab-df-convert {\n",
              "      background-color: #3B4455;\n",
              "      fill: #D2E3FC;\n",
              "    }\n",
              "\n",
              "    [theme=dark] .colab-df-convert:hover {\n",
              "      background-color: #434B5C;\n",
              "      box-shadow: 0px 1px 3px 1px rgba(0, 0, 0, 0.15);\n",
              "      filter: drop-shadow(0px 1px 2px rgba(0, 0, 0, 0.3));\n",
              "      fill: #FFFFFF;\n",
              "    }\n",
              "  </style>\n",
              "\n",
              "      <script>\n",
              "        const buttonEl =\n",
              "          document.querySelector('#df-b223a091-d518-416f-af57-1073bf2e187c button.colab-df-convert');\n",
              "        buttonEl.style.display =\n",
              "          google.colab.kernel.accessAllowed ? 'block' : 'none';\n",
              "\n",
              "        async function convertToInteractive(key) {\n",
              "          const element = document.querySelector('#df-b223a091-d518-416f-af57-1073bf2e187c');\n",
              "          const dataTable =\n",
              "            await google.colab.kernel.invokeFunction('convertToInteractive',\n",
              "                                                     [key], {});\n",
              "          if (!dataTable) return;\n",
              "\n",
              "          const docLinkHtml = 'Like what you see? Visit the ' +\n",
              "            '<a target=\"_blank\" href=https://colab.research.google.com/notebooks/data_table.ipynb>data table notebook</a>'\n",
              "            + ' to learn more about interactive tables.';\n",
              "          element.innerHTML = '';\n",
              "          dataTable['output_type'] = 'display_data';\n",
              "          await google.colab.output.renderOutput(dataTable, element);\n",
              "          const docLink = document.createElement('div');\n",
              "          docLink.innerHTML = docLinkHtml;\n",
              "          element.appendChild(docLink);\n",
              "        }\n",
              "      </script>\n",
              "    </div>\n",
              "  </div>\n",
              "  "
            ]
          },
          "metadata": {},
          "execution_count": 11
        }
      ],
      "source": [
        "round(data[num_col].describe(),2)"
      ]
    },
    {
      "cell_type": "markdown",
      "metadata": {
        "id": "vsdWG6G8x6Mv"
      },
      "source": [
        "Firstly let us construct a heatmap of numerical variables present in the dataset"
      ]
    },
    {
      "cell_type": "code",
      "execution_count": null,
      "metadata": {
        "colab": {
          "base_uri": "https://localhost:8080/",
          "height": 287
        },
        "id": "cM9rNaZ9xqC-",
        "outputId": "eecc8741-cbef-4fd0-93bd-b1fbb7d14cd7"
      },
      "outputs": [
        {
          "output_type": "display_data",
          "data": {
            "text/plain": [
              "<Figure size 432x288 with 2 Axes>"
            ],
            "image/png": "[encoded data removed]"
          },
          "metadata": {
            "needs_background": "light"
          }
        }
      ],
      "source": [
        "import seaborn as sns \n",
        "\n",
        "heatmap=sns.heatmap(data[num_col].corr(),vmin=-1, vmax=1, annot=True,cmap='BrBG')\n",
        "heatmap.set_title('Correlation Heatmap', fontdict={'fontsize':12}, pad=12);"
      ]
    },
    {
      "cell_type": "markdown",
      "metadata": {
        "id": "UETeDkTjeRdm"
      },
      "source": [
        "As evident, we can see that the X Coordinate is perfectly correlated to the Longitude while the Y coordinate is perfectly correlated to the latitude. There is not much correlation between X and Y coordinate and Lattidue and Longitude."
      ]
    },
    {
      "cell_type": "markdown",
      "metadata": {
        "id": "1vedomP3zjkb"
      },
      "source": [
        "Now let us try to get the distribution of the numerical columns with a box plot "
      ]
    },
    {
      "cell_type": "code",
      "execution_count": null,
      "metadata": {
        "colab": {
          "base_uri": "https://localhost:8080/",
          "height": 1000
        },
        "id": "Tf9q91Bc0MNj",
        "outputId": "45bd5740-c95f-4f66-cca5-336fb2aea07a"
      },
      "outputs": [
        {
          "output_type": "display_data",
          "data": {
            "text/plain": [
              "<Figure size 432x288 with 1 Axes>"
            ],
            "image/png": "[encoded data removed]"
          },
          "metadata": {
            "needs_background": "light"
          }
        },
        {
          "output_type": "display_data",
          "data": {
            "text/plain": [
              "<Figure size 432x288 with 1 Axes>"
            ],
            "image/png": "[encoded data removed]"
          },
          "metadata": {
            "needs_background": "light"
          }
        },
        {
          "output_type": "display_data",
          "data": {
            "text/plain": [
              "<Figure size 432x288 with 1 Axes>"
            ],
            "image/png": "[encoded data removed]"
          },
          "metadata": {
            "needs_background": "light"
          }
        },
        {
          "output_type": "display_data",
          "data": {
            "text/plain": [
              "<Figure size 432x288 with 1 Axes>"
            ],
            "image/png": "[encoded data removed]"
          },
          "metadata": {
            "needs_background": "light"
          }
        }
      ],
      "source": [
        "import matplotlib.pyplot as plt\n",
        "for col in num_col:\n",
        "\n",
        "      box=sns.boxplot(y = data[col])\n",
        "      box.set_title(col, fontdict={'fontsize':12}, pad=12)\n",
        "      plt.show()"
      ]
    },
    {
      "cell_type": "markdown",
      "metadata": {
        "id": "hoImcCXL0LXw"
      },
      "source": [
        "We can observe that variance in values of X and Y coordinates and the Latitude Coordinates is quiet small. Therefore these features may not add any extra information if we add them to our model. We will perform variable selection later on to confirm that and drop these variables if neccessary."
      ]
    },
    {
      "cell_type": "markdown",
      "metadata": {
        "id": "RjYIiZARHotz"
      },
      "source": [
        "### Boolean Columns"
      ]
    },
    {
      "cell_type": "code",
      "execution_count": null,
      "metadata": {
        "colab": {
          "base_uri": "https://localhost:8080/",
          "height": 651
        },
        "id": "0lMc2_dqHx3j",
        "outputId": "988c08dc-49a9-44f7-d35c-3aa970f04c2c"
      },
      "outputs": [
        {
          "output_type": "stream",
          "name": "stderr",
          "text": [
            "/usr/local/lib/python3.7/dist-packages/seaborn/_decorators.py:43: FutureWarning: Pass the following variable as a keyword arg: x. From version 0.12, the only valid positional argument will be `data`, and passing other arguments without an explicit keyword will result in an error or misinterpretation.\n",
            "  FutureWarning\n"
          ]
        },
        {
          "output_type": "display_data",
          "data": {
            "text/plain": [
              "<Figure size 432x288 with 1 Axes>"
            ],
            "image/png": "[encoded data removed]"
          },
          "metadata": {
            "needs_background": "light"
          }
        },
        {
          "output_type": "stream",
          "name": "stderr",
          "text": [
            "/usr/local/lib/python3.7/dist-packages/seaborn/_decorators.py:43: FutureWarning: Pass the following variable as a keyword arg: x. From version 0.12, the only valid positional argument will be `data`, and passing other arguments without an explicit keyword will result in an error or misinterpretation.\n",
            "  FutureWarning\n"
          ]
        },
        {
          "output_type": "display_data",
          "data": {
            "text/plain": [
              "<Figure size 432x288 with 1 Axes>"
            ],
            "image/png": "[encoded data removed]"
          },
          "metadata": {
            "needs_background": "light"
          }
        }
      ],
      "source": [
        "for col in bool_col:\n",
        "\n",
        "      count=sns.countplot(data[col])\n",
        "      box.set_title(col, fontdict={'fontsize':12}, pad=12)\n",
        "      plt.show()"
      ]
    },
    {
      "cell_type": "markdown",
      "metadata": {
        "id": "mdq8arAmHxGJ"
      },
      "source": [
        "We can observe the following things:\n",
        "- In most crimes , arrests are not made. \n",
        "- Majority of the crimes are not related to domestic violence (as defined by the Illinois Domestic Violence Act) "
      ]
    },
    {
      "cell_type": "markdown",
      "metadata": {
        "id": "S9LVIqpBIhZn"
      },
      "source": [
        "We can also check how the above boolean variables relate to various types of crimes which is our target label."
      ]
    },
    {
      "cell_type": "code",
      "execution_count": null,
      "metadata": {
        "id": "b1XoOjt1CNyu"
      },
      "outputs": [],
      "source": [
        "def stacked_bar(df_inp,y_col,col_list,fig_height=10,fig_width=5,is_perc=False):\n",
        "  import matplotlib.pyplot as plt \n",
        "\n",
        "  for col in col_list:\n",
        "  \n",
        "        df_test=df_inp.groupby(y_col)[col].value_counts(is_perc).unstack(col).fillna(0)\n",
        "        s = df_test.sum(axis=1).sort_values(ascending=True)\n",
        "        df_test=df_test.loc[s.index]\n",
        "        count=df_test.plot.barh(stacked=True,figsize=(fig_width, fig_height))\n",
        "        count.set_title(col, fontdict={'fontsize':12}, pad=12)"
      ]
    },
    {
      "cell_type": "code",
      "execution_count": null,
      "metadata": {
        "colab": {
          "base_uri": "https://localhost:8080/",
          "height": 1000
        },
        "id": "NeBNOfP6IuN-",
        "outputId": "257bcb1e-34d3-4ae8-fbf1-84cfd55350e6"
      },
      "outputs": [
        {
          "output_type": "display_data",
          "data": {
            "text/plain": [
              "<Figure size 360x720 with 1 Axes>"
            ],
            "image/png": "[encoded data removed]"
          },
          "metadata": {
            "needs_background": "light"
          }
        },
        {
          "output_type": "display_data",
          "data": {
            "text/plain": [
              "<Figure size 360x720 with 1 Axes>"
            ],
            "image/png": "[encoded data removed]"
          },
          "metadata": {
            "needs_background": "light"
          }
        }
      ],
      "source": [
        "  stacked_bar(data,'Primary Type',bool_col,is_perc=False)"
      ]
    },
    {
      "cell_type": "markdown",
      "metadata": {
        "id": "h_M-hTSPLzgd"
      },
      "source": [
        "We can make the following inferences from the data :    \n",
        "- For the arrests made , Theft, Battery and Criminal Damage have the least number of arrests made as compared to the total crimes committed. On the other hand, Narcotics, Weapons Violation and prostitution have the highest proportion of arrests made. \n",
        "- For domestic violence, most crimes are of the type Battery, Criminal Damage and Assault"
      ]
    },
    {
      "cell_type": "markdown",
      "metadata": {
        "id": "yO3DTHFG6L6e"
      },
      "source": [
        "### Categorical Columns"
      ]
    },
    {
      "cell_type": "code",
      "execution_count": null,
      "metadata": {
        "id": "SNFK7kuKDuVV"
      },
      "outputs": [],
      "source": [
        "col_list= [  'Primary Type', 'District', 'Ward', 'Community Area',\n",
        "       'FBI Code', 'Year']\n",
        "\n",
        "def normal_bar(df_inp,col_list,fig_height=10,fig_width=5,is_perc=False):\n",
        "  import matplotlib.pyplot as plt \n",
        "\n",
        "  for col in col_list:\n",
        "  \n",
        "        df_test=pd.DataFrame(data[col].value_counts(normalize=is_perc).sort_values(ascending=True))\n",
        "        \n",
        "        #df_test=df_test.loc[s.index]\n",
        "        count=df_test.plot.barh(stacked=False,figsize=(fig_width, fig_height))\n",
        "        count.set_title(col, fontdict={'fontsize':12}, pad=12)\n",
        "\n"
      ]
    },
    {
      "cell_type": "code",
      "execution_count": null,
      "metadata": {
        "colab": {
          "base_uri": "https://localhost:8080/",
          "height": 1000
        },
        "id": "EOJcBq_pDzpD",
        "outputId": "98ed59c0-9e65-41ae-f6a5-f116d3a81f71"
      },
      "outputs": [
        {
          "output_type": "display_data",
          "data": {
            "text/plain": [
              "<Figure size 360x720 with 1 Axes>"
            ],
            "image/png": "[encoded data removed]"
          },
          "metadata": {
            "needs_background": "light"
          }
        },
        {
          "output_type": "display_data",
          "data": {
            "text/plain": [
              "<Figure size 360x720 with 1 Axes>"
            ],
            "image/png": "[encoded data removed]"
          },
          "metadata": {
            "needs_background": "light"
          }
        },
        {
          "output_type": "display_data",
          "data": {
            "text/plain": [
              "<Figure size 360x720 with 1 Axes>"
            ],
            "image/png": "[encoded data removed]"
          },
          "metadata": {
            "needs_background": "light"
          }
        },
        {
          "output_type": "display_data",
          "data": {
            "text/plain": [
              "<Figure size 360x720 with 1 Axes>"
            ],
            "image/png": "[encoded data removed]"
          },
          "metadata": {
            "needs_background": "light"
          }
        },
        {
          "output_type": "display_data",
          "data": {
            "text/plain": [
              "<Figure size 360x720 with 1 Axes>"
            ],
            "image/png": "[encoded data removed]"
          },
          "metadata": {
            "needs_background": "light"
          }
        },
        {
          "output_type": "display_data",
          "data": {
            "text/plain": [
              "<Figure size 360x720 with 1 Axes>"
            ],
            "image/png": "[encoded data removed]"
          },
          "metadata": {
            "needs_background": "light"
          }
        }
      ],
      "source": [
        "normal_bar(data,col_list)"
      ]
    },
    {
      "cell_type": "markdown",
      "metadata": {
        "id": "OBaQEPzUTzzp"
      },
      "source": [
        "We can infer the following things\n",
        "- Theft,Battery,Narcotics and Assault are the most common crimes. \n",
        "- Only a few type of criminal activities make up for the majority of crimes occuring. Since its our target variable, our dataset is unbalalanced and we might need to sample equally from each crime type to get desirable results in our model.\n",
        "- Most values in Community Area and Ward are missing. \n",
        "- Number of crimes have reduced as the years have progressed."
      ]
    },
    {
      "cell_type": "markdown",
      "metadata": {
        "id": "94SpfaWEXfrp"
      },
      "source": [
        "## Logistic Regression on the Dataset ( Run the code from here without going through the EDA part)"
      ]
    },
    {
      "cell_type": "code",
      "execution_count": null,
      "metadata": {
        "colab": {
          "base_uri": "https://localhost:8080/"
        },
        "id": "OIbPTZYzYhxz",
        "outputId": "81710edd-4038-4b0b-902f-1380c4670176"
      },
      "outputs": [
        {
          "output_type": "stream",
          "name": "stderr",
          "text": [
            "/usr/local/lib/python3.7/dist-packages/pandas/core/frame.py:5182: SettingWithCopyWarning: \n",
            "A value is trying to be set on a copy of a slice from a DataFrame\n",
            "\n",
            "See the caveats in the documentation: https://pandas.pydata.org/pandas-docs/stable/user_guide/indexing.html#returning-a-view-versus-a-copy\n",
            "  downcast=downcast,\n"
          ]
        }
      ],
      "source": [
        "import pandas as pd\n",
        "import numpy as np\n",
        "from pydrive.auth import GoogleAuth\n",
        "from google.colab import drive\n",
        "from pydrive.drive import GoogleDrive\n",
        "from google.colab import auth\n",
        "from oauth2client.client import GoogleCredentials\n",
        "#from fancyimpute import IterativeImputer as MICE\n",
        "\n",
        "auth.authenticate_user()\n",
        "gauth = GoogleAuth()\n",
        "gauth.credentials = GoogleCredentials.get_application_default()\n",
        "drive = GoogleDrive(gauth)\n",
        "\n",
        "\n",
        "# # For CSV file\n",
        "# file_id = '1FNLJjNeEmy-HzUA_ghtjRYeJcXYJiGHS'\n",
        "# download = drive.CreateFile({'id': file_id})\n",
        "# download.GetContentFile('ChicagoData.csv')\n",
        "# data = pd.read_csv(\"ChicagoData.csv\")\n",
        "# data.head()\n",
        "\n",
        "# # For Pickle Data file\n",
        "# file_id = '1iNTFeAEgyIVzXENvR6Hogg3sNSfIZPkX'\n",
        "# download = drive.CreateFile({'id': file_id})\n",
        "# download.GetContentFile('data.pkl')\n",
        "# data = pd.read_pickle(\"data.pkl\")\n",
        "# data.head()\n",
        "\n",
        "# For Pickle Debug Data file\n",
        "file_id = '18tivYo3gBtl3TOjP7xek6KMdP0I3e83y'\n",
        "download = drive.CreateFile({'id': file_id})\n",
        "download.GetContentFile('debug.pkl')\n",
        "data_debug = pd.read_pickle(\"debug.pkl\")\n",
        "data_debug.head()\n",
        "\n",
        "\n",
        "\n",
        "\n",
        "## Data Preprocessing Functions \n",
        "\n",
        "def df_preproc(data):\n",
        "      data = data.dropna(subset=['Location Description', 'X Coordinate','Y Coordinate','Latitude','Longitude','Location'])\n",
        "      #data_debug=data_debug.dropna(subset=['Location Description', 'X Coordinate','Y Coordinate','Latitude','Longitude','Location'])\n",
        "## Replacing the remaining missing values with 'Missing'\n",
        "\n",
        "      data.fillna('Missing',inplace=True)\n",
        "      #data_debug.fillna('Missing',inplace=True)\n",
        "\n",
        "      ## Dropping ID column \n",
        "\n",
        "      data=data.drop(['ID'], axis=1)\n",
        "      #data_debug=data_debug.drop(['ID'], axis=1)\n",
        "      ## Changing Data type of Year and Beat\n",
        "\n",
        "      data[['Beat','Year', 'Community Area', 'Ward', 'District']] = data[['Beat','Year', 'Community Area', 'Ward', 'District']].astype(str)\n",
        "      #data_debug[['Beat','Year']] = data_debug[['Beat','Year']].astype(str)\n",
        "\n",
        "      return data\n",
        "\n",
        "# data=df_preproc(data)\n",
        "data_debug=df_preproc(data_debug)"
      ]
    },
    {
      "cell_type": "markdown",
      "metadata": {
        "id": "2VzXeTqij60y"
      },
      "source": [
        "### Selecting some major columns and splitting the dataset into training and testing (after one hot encoding the categorical variables)"
      ]
    },
    {
      "cell_type": "code",
      "execution_count": null,
      "metadata": {
        "id": "EpYJdEXqXnQd"
      },
      "outputs": [],
      "source": [
        "final_col_list=['Location Description',  'Primary Type', 'District', 'Ward', 'Community Area',\n",
        "       'FBI Code','Latitude', 'Longitude','Arrest', 'Domestic','tsDate']\n",
        "\n",
        "## Whole Data Set       \n",
        "# X=data[final_col_list].copy()\n",
        "# y_label=X['Primary Type']\n",
        "# X.drop(['Primary Type'], axis = 1,inplace=True)\n",
        "# X=pd.get_dummies(X, drop_first=True)\n",
        "\n",
        "# from sklearn.model_selection import train_test_split\n",
        "# train_data, test_data,y_train,y_test = train_test_split(X,y_label, test_size = 0.2, random_state = 42)\n",
        "\n",
        "## Debug Dataset\n",
        "\n",
        "X_debug=data_debug[final_col_list].copy()\n",
        "y_label_debug=X_debug['Primary Type']\n",
        "X_debug.drop(['Primary Type'], axis = 1,inplace=True)\n",
        "X_debug=pd.get_dummies(X_debug, drop_first=True)\n",
        "\n",
        "#data.drop(['Case Number'], axis = 1)\n",
        "\n",
        "from sklearn.model_selection import train_test_split\n",
        "train_data_debug, test_data_debug,y_train_debug,y_test_debug = train_test_split(X_debug,y_label_debug, test_size = 0.2, random_state = 42)\n",
        "\n",
        "\n",
        "\n"
      ]
    },
    {
      "cell_type": "code",
      "source": [
        "X_debug.head()"
      ],
      "metadata": {
        "colab": {
          "base_uri": "https://localhost:8080/",
          "height": 331
        },
        "id": "zoxexf1AxDHa",
        "outputId": "d38bdccf-9963-459f-c663-b99fccf50490"
      },
      "execution_count": null,
      "outputs": [
        {
          "output_type": "execute_result",
          "data": {
            "text/plain": [
              "    Latitude  Longitude  Arrest  Domestic      tsDate  \\\n",
              "0  41.815117 -87.670000   False      True  1441459800   \n",
              "1  41.895080 -87.765400   False     False  1441366200   \n",
              "3  41.937406 -87.716650    True     False  1441457100   \n",
              "4  41.881903 -87.755121   False      True  1441458000   \n",
              "5  41.744379 -87.658431   False     False  1441450500   \n",
              "\n",
              "   Location Description_ALLEY  Location Description_APARTMENT  \\\n",
              "0                           0                               0   \n",
              "1                           0                               0   \n",
              "3                           0                               0   \n",
              "4                           0                               1   \n",
              "5                           0                               0   \n",
              "\n",
              "   Location Description_APPLIANCE STORE  Location Description_ATHLETIC CLUB  \\\n",
              "0                                     0                                   0   \n",
              "1                                     0                                   0   \n",
              "3                                     0                                   0   \n",
              "4                                     0                                   0   \n",
              "5                                     0                                   0   \n",
              "\n",
              "   Location Description_BANK  ...  FBI Code_14  FBI Code_15  FBI Code_16  \\\n",
              "0                          0  ...            0            0            0   \n",
              "1                          0  ...            0            0            0   \n",
              "3                          0  ...            0            0            0   \n",
              "4                          0  ...            0            0            0   \n",
              "5                          0  ...            0            0            0   \n",
              "\n",
              "   FBI Code_17  FBI Code_18  FBI Code_19  FBI Code_20  FBI Code_22  \\\n",
              "0            0            0            0            0            0   \n",
              "1            0            0            0            0            0   \n",
              "3            0            1            0            0            0   \n",
              "4            0            0            0            0            0   \n",
              "5            0            0            0            0            0   \n",
              "\n",
              "   FBI Code_24  FBI Code_26  \n",
              "0            0            0  \n",
              "1            0            0  \n",
              "3            0            0  \n",
              "4            0            0  \n",
              "5            0            0  \n",
              "\n",
              "[5 rows x 217 columns]"
            ],
            "text/html": [
              "\n",
              "  <div id=\"df-63f83ae6-55e8-47b4-b9c9-3fb0aaf2662c\">\n",
              "    <div class=\"colab-df-container\">\n",
              "      <div>\n",
              "<style scoped>\n",
              "    .dataframe tbody tr th:only-of-type {\n",
              "        vertical-align: middle;\n",
              "    }\n",
              "\n",
              "    .dataframe tbody tr th {\n",
              "        vertical-align: top;\n",
              "    }\n",
              "\n",
              "    .dataframe thead th {\n",
              "        text-align: right;\n",
              "    }\n",
              "</style>\n",
              "<table border=\"1\" class=\"dataframe\">\n",
              "  <thead>\n",
              "    <tr style=\"text-align: right;\">\n",
              "      <th></th>\n",
              "      <th>Latitude</th>\n",
              "      <th>Longitude</th>\n",
              "      <th>Arrest</th>\n",
              "      <th>Domestic</th>\n",
              "      <th>tsDate</th>\n",
              "      <th>Location Description_ALLEY</th>\n",
              "      <th>Location Description_APARTMENT</th>\n",
              "      <th>Location Description_APPLIANCE STORE</th>\n",
              "      <th>Location Description_ATHLETIC CLUB</th>\n",
              "      <th>Location Description_BANK</th>\n",
              "      <th>...</th>\n",
              "      <th>FBI Code_14</th>\n",
              "      <th>FBI Code_15</th>\n",
              "      <th>FBI Code_16</th>\n",
              "      <th>FBI Code_17</th>\n",
              "      <th>FBI Code_18</th>\n",
              "      <th>FBI Code_19</th>\n",
              "      <th>FBI Code_20</th>\n",
              "      <th>FBI Code_22</th>\n",
              "      <th>FBI Code_24</th>\n",
              "      <th>FBI Code_26</th>\n",
              "    </tr>\n",
              "  </thead>\n",
              "  <tbody>\n",
              "    <tr>\n",
              "      <th>0</th>\n",
              "      <td>41.815117</td>\n",
              "      <td>-87.670000</td>\n",
              "      <td>False</td>\n",
              "      <td>True</td>\n",
              "      <td>1441459800</td>\n",
              "      <td>0</td>\n",
              "      <td>0</td>\n",
              "      <td>0</td>\n",
              "      <td>0</td>\n",
              "      <td>0</td>\n",
              "      <td>...</td>\n",
              "      <td>0</td>\n",
              "      <td>0</td>\n",
              "      <td>0</td>\n",
              "      <td>0</td>\n",
              "      <td>0</td>\n",
              "      <td>0</td>\n",
              "      <td>0</td>\n",
              "      <td>0</td>\n",
              "      <td>0</td>\n",
              "      <td>0</td>\n",
              "    </tr>\n",
              "    <tr>\n",
              "      <th>1</th>\n",
              "      <td>41.895080</td>\n",
              "      <td>-87.765400</td>\n",
              "      <td>False</td>\n",
              "      <td>False</td>\n",
              "      <td>1441366200</td>\n",
              "      <td>0</td>\n",
              "      <td>0</td>\n",
              "      <td>0</td>\n",
              "      <td>0</td>\n",
              "      <td>0</td>\n",
              "      <td>...</td>\n",
              "      <td>0</td>\n",
              "      <td>0</td>\n",
              "      <td>0</td>\n",
              "      <td>0</td>\n",
              "      <td>0</td>\n",
              "      <td>0</td>\n",
              "      <td>0</td>\n",
              "      <td>0</td>\n",
              "      <td>0</td>\n",
              "      <td>0</td>\n",
              "    </tr>\n",
              "    <tr>\n",
              "      <th>3</th>\n",
              "      <td>41.937406</td>\n",
              "      <td>-87.716650</td>\n",
              "      <td>True</td>\n",
              "      <td>False</td>\n",
              "      <td>1441457100</td>\n",
              "      <td>0</td>\n",
              "      <td>0</td>\n",
              "      <td>0</td>\n",
              "      <td>0</td>\n",
              "      <td>0</td>\n",
              "      <td>...</td>\n",
              "      <td>0</td>\n",
              "      <td>0</td>\n",
              "      <td>0</td>\n",
              "      <td>0</td>\n",
              "      <td>1</td>\n",
              "      <td>0</td>\n",
              "      <td>0</td>\n",
              "      <td>0</td>\n",
              "      <td>0</td>\n",
              "      <td>0</td>\n",
              "    </tr>\n",
              "    <tr>\n",
              "      <th>4</th>\n",
              "      <td>41.881903</td>\n",
              "      <td>-87.755121</td>\n",
              "      <td>False</td>\n",
              "      <td>True</td>\n",
              "      <td>1441458000</td>\n",
              "      <td>0</td>\n",
              "      <td>1</td>\n",
              "      <td>0</td>\n",
              "      <td>0</td>\n",
              "      <td>0</td>\n",
              "      <td>...</td>\n",
              "      <td>0</td>\n",
              "      <td>0</td>\n",
              "      <td>0</td>\n",
              "      <td>0</td>\n",
              "      <td>0</td>\n",
              "      <td>0</td>\n",
              "      <td>0</td>\n",
              "      <td>0</td>\n",
              "      <td>0</td>\n",
              "      <td>0</td>\n",
              "    </tr>\n",
              "    <tr>\n",
              "      <th>5</th>\n",
              "      <td>41.744379</td>\n",
              "      <td>-87.658431</td>\n",
              "      <td>False</td>\n",
              "      <td>False</td>\n",
              "      <td>1441450500</td>\n",
              "      <td>0</td>\n",
              "      <td>0</td>\n",
              "      <td>0</td>\n",
              "      <td>0</td>\n",
              "      <td>0</td>\n",
              "      <td>...</td>\n",
              "      <td>0</td>\n",
              "      <td>0</td>\n",
              "      <td>0</td>\n",
              "      <td>0</td>\n",
              "      <td>0</td>\n",
              "      <td>0</td>\n",
              "      <td>0</td>\n",
              "      <td>0</td>\n",
              "      <td>0</td>\n",
              "      <td>0</td>\n",
              "    </tr>\n",
              "  </tbody>\n",
              "</table>\n",
              "<p>5 rows × 217 columns</p>\n",
              "</div>\n",
              "      <button class=\"colab-df-convert\" onclick=\"convertToInteractive('df-63f83ae6-55e8-47b4-b9c9-3fb0aaf2662c')\"\n",
              "              title=\"Convert this dataframe to an interactive table.\"\n",
              "              style=\"display:none;\">\n",
              "        \n",
              "  <svg xmlns=\"http://www.w3.org/2000/svg\" height=\"24px\"viewBox=\"0 0 24 24\"\n",
              "       width=\"24px\">\n",
              "    <path d=\"M0 0h24v24H0V0z\" fill=\"none\"/>\n",
              "    <path d=\"M18.56 5.44l.94 2.06.94-2.06 2.06-.94-2.06-.94-.94-2.06-.94 2.06-2.06.94zm-11 1L8.5 8.5l.94-2.06 2.06-.94-2.06-.94L8.5 2.5l-.94 2.06-2.06.94zm10 10l.94 2.06.94-2.06 2.06-.94-2.06-.94-.94-2.06-.94 2.06-2.06.94z\"/><path d=\"M17.41 7.96l-1.37-1.37c-.4-.4-.92-.59-1.43-.59-.52 0-1.04.2-1.43.59L10.3 9.45l-7.72 7.72c-.78.78-.78 2.05 0 2.83L4 21.41c.39.39.9.59 1.41.59.51 0 1.02-.2 1.41-.59l7.78-7.78 2.81-2.81c.8-.78.8-2.07 0-2.86zM5.41 20L4 18.59l7.72-7.72 1.47 1.35L5.41 20z\"/>\n",
              "  </svg>\n",
              "      </button>\n",
              "      \n",
              "  <style>\n",
              "    .colab-df-container {\n",
              "      display:flex;\n",
              "      flex-wrap:wrap;\n",
              "      gap: 12px;\n",
              "    }\n",
              "\n",
              "    .colab-df-convert {\n",
              "      background-color: #E8F0FE;\n",
              "      border: none;\n",
              "      border-radius: 50%;\n",
              "      cursor: pointer;\n",
              "      display: none;\n",
              "      fill: #1967D2;\n",
              "      height: 32px;\n",
              "      padding: 0 0 0 0;\n",
              "      width: 32px;\n",
              "    }\n",
              "\n",
              "    .colab-df-convert:hover {\n",
              "      background-color: #E2EBFA;\n",
              "      box-shadow: 0px 1px 2px rgba(60, 64, 67, 0.3), 0px 1px 3px 1px rgba(60, 64, 67, 0.15);\n",
              "      fill: #174EA6;\n",
              "    }\n",
              "\n",
              "    [theme=dark] .colab-df-convert {\n",
              "      background-color: #3B4455;\n",
              "      fill: #D2E3FC;\n",
              "    }\n",
              "\n",
              "    [theme=dark] .colab-df-convert:hover {\n",
              "      background-color: #434B5C;\n",
              "      box-shadow: 0px 1px 3px 1px rgba(0, 0, 0, 0.15);\n",
              "      filter: drop-shadow(0px 1px 2px rgba(0, 0, 0, 0.3));\n",
              "      fill: #FFFFFF;\n",
              "    }\n",
              "  </style>\n",
              "\n",
              "      <script>\n",
              "        const buttonEl =\n",
              "          document.querySelector('#df-63f83ae6-55e8-47b4-b9c9-3fb0aaf2662c button.colab-df-convert');\n",
              "        buttonEl.style.display =\n",
              "          google.colab.kernel.accessAllowed ? 'block' : 'none';\n",
              "\n",
              "        async function convertToInteractive(key) {\n",
              "          const element = document.querySelector('#df-63f83ae6-55e8-47b4-b9c9-3fb0aaf2662c');\n",
              "          const dataTable =\n",
              "            await google.colab.kernel.invokeFunction('convertToInteractive',\n",
              "                                                     [key], {});\n",
              "          if (!dataTable) return;\n",
              "\n",
              "          const docLinkHtml = 'Like what you see? Visit the ' +\n",
              "            '<a target=\"_blank\" href=https://colab.research.google.com/notebooks/data_table.ipynb>data table notebook</a>'\n",
              "            + ' to learn more about interactive tables.';\n",
              "          element.innerHTML = '';\n",
              "          dataTable['output_type'] = 'display_data';\n",
              "          await google.colab.output.renderOutput(dataTable, element);\n",
              "          const docLink = document.createElement('div');\n",
              "          docLink.innerHTML = docLinkHtml;\n",
              "          element.appendChild(docLink);\n",
              "        }\n",
              "      </script>\n",
              "    </div>\n",
              "  </div>\n",
              "  "
            ]
          },
          "metadata": {},
          "execution_count": 21
        }
      ]
    },
    {
      "cell_type": "code",
      "execution_count": null,
      "metadata": {
        "colab": {
          "base_uri": "https://localhost:8080/"
        },
        "id": "aqLex1hFO1ve",
        "outputId": "e267c0a4-6c65-433c-a5e1-d42e7a2afd44"
      },
      "outputs": [
        {
          "output_type": "execute_result",
          "data": {
            "text/plain": [
              "BATTERY                             171\n",
              "THEFT                               159\n",
              "CRIMINAL DAMAGE                      90\n",
              "NARCOTICS                            76\n",
              "ASSAULT                              50\n",
              "OTHER OFFENSE                        35\n",
              "BURGLARY                             33\n",
              "ROBBERY                              28\n",
              "DECEPTIVE PRACTICE                   26\n",
              "MOTOR VEHICLE THEFT                  23\n",
              "CRIMINAL TRESPASS                    20\n",
              "WEAPONS VIOLATION                    13\n",
              "OFFENSE INVOLVING CHILDREN            8\n",
              "INTERFERENCE WITH PUBLIC OFFICER      7\n",
              "PUBLIC PEACE VIOLATION                6\n",
              "CRIM SEXUAL ASSAULT                   4\n",
              "SEX OFFENSE                           3\n",
              "LIQUOR LAW VIOLATION                  2\n",
              "GAMBLING                              1\n",
              "STALKING                              1\n",
              "Name: Primary Type, dtype: int64"
            ]
          },
          "metadata": {},
          "execution_count": 22
        }
      ],
      "source": [
        "y_train_debug.value_counts()"
      ]
    },
    {
      "cell_type": "markdown",
      "metadata": {
        "id": "0Zyf2BjdkGqW"
      },
      "source": [
        "### Label Encoding the target variable \n"
      ]
    },
    {
      "cell_type": "markdown",
      "source": [
        "We have decided to group the target variable into larger groups (Under common criminal themes), so that it is easier for our multiclass classification model to predict the classes with certainty. The groups can be seen below under the `CrimeMap` dictionary"
      ],
      "metadata": {
        "id": "JkPr5oy_fbDt"
      }
    },
    {
      "cell_type": "code",
      "execution_count": null,
      "metadata": {
        "id": "rD_4NxyZYaHB"
      },
      "outputs": [],
      "source": [
        "Map = {\n",
        "'ASSAULT':0,\n",
        "'BATTERY':6,\n",
        "'HOMICIDE':15,\n",
        "'DOMESTIC VIOLENCE':35,\n",
        "\n",
        "'CRIMINAL DAMAGE':1,\n",
        "'ARSON':25,\n",
        "\n",
        "'MOTOR VEHICLE THEFT':2,\n",
        "'THEFT':3,\n",
        "'BURGLARY':5,\n",
        "'ROBBERY':10,\n",
        "\n",
        "'NARCOTICS':4,\n",
        "'OTHER NARCOTIC VIOLATION':28,\n",
        "\n",
        "'CRIMINAL TRESPASS':7,\n",
        "'OTHER OFFENSE':8,\n",
        "'DECEPTIVE PRACTICE':9,\n",
        "'PUBLIC PEACE VIOLATION':16,\n",
        "'LIQUOR LAW VIOLATION':19,\n",
        "'INTERFERENCE WITH PUBLIC OFFICER':20,\n",
        "'GAMBLING':22,\n",
        "'NON - CRIMINAL':26,\n",
        "'PUBLIC INDECENCY':29,\n",
        "'NON-CRIMINAL':30,\n",
        "'OBSCENITY':31,\n",
        "'RITUALISM':33,\n",
        "'NON-CRIMINAL (SUBJECT SPECIFIED)':34,\n",
        "\n",
        "'WEAPONS VIOLATION':11,\n",
        "'CONCEALED CARRY LICENSE VIOLATION':27,\n",
        "\n",
        "'OFFENSE INVOLVING CHILDREN':12,\n",
        "'PROSTITUTION':13,\n",
        "'CRIM SEXUAL ASSAULT':18,\n",
        "'SEX OFFENSE':21,\n",
        "'CRIMINAL SEXUAL ASSAULT':23,\n",
        "'HUMAN TRAFFICKING':32,\n",
        "'STALKING':14,\n",
        "'INTIMIDATION':17,\n",
        "'KIDNAPPING':24\n",
        "}\n",
        "\n",
        "CrimeMap = {\n",
        "'ASSAULT':0,\n",
        "'BATTERY':0,\n",
        "'HOMICIDE':0,\n",
        "'DOMESTIC VIOLENCE':0,\n",
        "\n",
        "'CRIMINAL DAMAGE':1,\n",
        "'ARSON':1,\n",
        "\n",
        "'MOTOR VEHICLE THEFT':2,\n",
        "'THEFT':2,\n",
        "'BURGLARY':2,\n",
        "'ROBBERY':2,\n",
        "\n",
        "'NARCOTICS':3,\n",
        "'OTHER NARCOTIC VIOLATION':3,\n",
        "\n",
        "'CRIMINAL TRESPASS':4,\n",
        "'OTHER OFFENSE':4,\n",
        "'DECEPTIVE PRACTICE':4,\n",
        "'PUBLIC PEACE VIOLATION':4,\n",
        "'LIQUOR LAW VIOLATION':4,\n",
        "'INTERFERENCE WITH PUBLIC OFFICER':4,\n",
        "'GAMBLING':4,\n",
        "'NON - CRIMINAL':4,\n",
        "'PUBLIC INDECENCY':4,\n",
        "'NON-CRIMINAL':4,\n",
        "'OBSCENITY':4,\n",
        "'RITUALISM':4,\n",
        "'NON-CRIMINAL (SUBJECT SPECIFIED)':4,\n",
        "\n",
        "'WEAPONS VIOLATION':5,\n",
        "'CONCEALED CARRY LICENSE VIOLATION':5,\n",
        "'OFFENSE INVOLVING CHILDREN':5,\n",
        "'PROSTITUTION':5,\n",
        "'CRIM SEXUAL ASSAULT':5,\n",
        "'SEX OFFENSE':5,\n",
        "'CRIMINAL SEXUAL ASSAULT':5,\n",
        "'HUMAN TRAFFICKING':5,\n",
        "'STALKING':5,\n",
        "'INTIMIDATION':5,\n",
        "'KIDNAPPING':5\n",
        "}\n",
        "\n",
        "\n",
        "# y_train= y_train.map(Map)\n",
        "# y_test = y_test.map(Map)\n",
        "\n",
        "y_train_debug= y_train_debug.map(CrimeMap)\n",
        "y_test_debug = y_test_debug.map(CrimeMap)"
      ]
    },
    {
      "cell_type": "markdown",
      "metadata": {
        "id": "m3K6wIJfT3OP"
      },
      "source": [
        "### Defining functions to gauge model performance in a multiclass setting"
      ]
    },
    {
      "cell_type": "code",
      "execution_count": null,
      "metadata": {
        "id": "7UImjcF5mSOH"
      },
      "outputs": [],
      "source": [
        "def performance_metrics (y_true_train,y_true_test,y_train_pred,y_test_pred):\n",
        "\n",
        "            acc_train = accuracy_score(y_true_train,y_train_pred)\n",
        "            acc_test = accuracy_score(y_true_test,y_test_pred)\n",
        "            macro_averaged_precision = metrics.precision_score(y_true_test, y_test_pred, average = 'macro')\n",
        "            micro_averaged_precision = metrics.precision_score(y_true_test, y_test_pred, average = 'micro')\n",
        "            macro_averaged_recall = metrics.recall_score(y_true_test, y_test_pred, average = 'macro')\n",
        "            micro_averaged_recall = metrics.recall_score(y_true_test, y_test_pred, average = 'micro')\n",
        "            macro_averaged_f1 = metrics.f1_score(y_true_test, y_test_pred, average = 'macro')\n",
        "            micro_averaged_f1 = metrics.f1_score(y_true_test, y_test_pred, average = 'micro')\n",
        "            print('Accuracy Train : ', round(acc_train,4))\n",
        "            print('Accuracy  Test : ', round(acc_test,4))\n",
        "            print(f\"Macro-Averaged Precision score  : {round(macro_averaged_precision,4)}\")\n",
        "            print(f\"Micro-Averaged Precision score  : {round(micro_averaged_precision,4)}\")\n",
        "            print(f\"Macro-Averaged Recall score  : {round(macro_averaged_recall,4)}\")\n",
        "            print(f\"Micro-Averaged Recall score  : {round(micro_averaged_recall,4)}\")\n",
        "            print(f\"Macro-Averaged F1 score  : {round(macro_averaged_f1,4)}\")\n",
        "            print(f\"Micro-Averaged F1 score  : {round(micro_averaged_f1,4)}\")\n",
        "\n",
        "\n",
        "from sklearn.metrics import roc_auc_score\n",
        "\n",
        "def roc_auc_score_multiclass(actual_class, pred_class, average = \"macro\"):\n",
        "    \n",
        "    #creating a set of all the unique classes using the actual class list\n",
        "    unique_class = set(actual_class)\n",
        "    roc_auc_dict = {}\n",
        "    for per_class in unique_class:\n",
        "        \n",
        "        #creating a list of all the classes except the current class \n",
        "        other_class = [x for x in unique_class if x != per_class]\n",
        "\n",
        "        #marking the current class as 1 and all other classes as 0\n",
        "        new_actual_class = [0 if x in other_class else 1 for x in actual_class]\n",
        "        new_pred_class = [0 if x in other_class else 1 for x in pred_class]\n",
        "\n",
        "        #using the sklearn metrics method to calculate the roc_auc_score\n",
        "        roc_auc = roc_auc_score(new_actual_class, new_pred_class, average = average)\n",
        "        roc_auc_dict[per_class] = roc_auc\n",
        "\n",
        "    return roc_auc_dict"
      ]
    },
    {
      "cell_type": "code",
      "execution_count": null,
      "metadata": {
        "id": "loGEpTAFT5l6"
      },
      "outputs": [],
      "source": [
        "# from imblearn.over_sampling import SMOTE\n",
        "# from imblearn.over_sampling import RandomOverSampler \n",
        "# oversample = RandomOverSampler(random_state=42)\n"
      ]
    },
    {
      "cell_type": "code",
      "execution_count": null,
      "metadata": {
        "id": "5U0DOpFskIIp"
      },
      "outputs": [],
      "source": [
        "\n",
        "\n",
        "#train_data_debug=pd.get_dummies(train_data_debug)\n",
        "\n"
      ]
    },
    {
      "cell_type": "code",
      "execution_count": null,
      "metadata": {
        "id": "hUO4gIK7ShcF"
      },
      "outputs": [],
      "source": [
        "# train_data_debug,y_train_debug = oversample.fit_resample(train_data_debug,y_train_debug)"
      ]
    },
    {
      "cell_type": "code",
      "source": [
        "y_train_debug.value_counts()"
      ],
      "metadata": {
        "colab": {
          "base_uri": "https://localhost:8080/"
        },
        "id": "CNhP7ezzuDl9",
        "outputId": "09292eed-08f3-44e3-ef5c-9c5572d33d39"
      },
      "execution_count": null,
      "outputs": [
        {
          "output_type": "execute_result",
          "data": {
            "text/plain": [
              "2    243\n",
              "0    221\n",
              "4     97\n",
              "1     90\n",
              "3     76\n",
              "5     29\n",
              "Name: Primary Type, dtype: int64"
            ]
          },
          "metadata": {},
          "execution_count": 80
        }
      ]
    },
    {
      "cell_type": "markdown",
      "source": [
        "Trying Logistic Regression on the Data Set"
      ],
      "metadata": {
        "id": "BPF318aTfwzG"
      }
    },
    {
      "cell_type": "code",
      "execution_count": null,
      "metadata": {
        "id": "tt6UmlX5nACI"
      },
      "outputs": [],
      "source": [
        "from sklearn.linear_model import LogisticRegression\n",
        "lg = LogisticRegression(multi_class='multinomial', solver = 'lbfgs')\n",
        "lg.fit(train_data_debug,y_train_debug)\n",
        "\n",
        "y_train_pred_debug = lg.predict(train_data_debug)\n",
        "y_test_pred_debug = lg.predict(test_data_debug)"
      ]
    },
    {
      "cell_type": "markdown",
      "source": [
        "\n",
        "Plotting the confusion matrix between the predicted and actual values in the test dataset"
      ],
      "metadata": {
        "id": "Rwo-FxDNf2KW"
      }
    },
    {
      "cell_type": "code",
      "execution_count": null,
      "metadata": {
        "colab": {
          "base_uri": "https://localhost:8080/",
          "height": 404
        },
        "id": "Tx8dTZhpkooD",
        "outputId": "b6fc15ed-d41d-4adf-9560-a837154f4df1"
      },
      "outputs": [
        {
          "output_type": "display_data",
          "data": {
            "text/plain": [
              "<Figure size 648x432 with 2 Axes>"
            ],
            "image/png": "[encoded data removed]"
          },
          "metadata": {
            "needs_background": "light"
          }
        }
      ],
      "source": [
        "# Confusion Matrix \n",
        "import matplotlib.pyplot as plt\n",
        "import seaborn as sns\n",
        "con_matrix = pd.crosstab(pd.Series(y_test_debug.values.flatten(), name='Actual' ),pd.Series(y_test_pred_debug, name='Predicted'))\n",
        "plt.figure(figsize = (9,6))\n",
        "plt.title(\"Confusion Matrix for Logistic Regression\")\n",
        "sns.heatmap(con_matrix, cmap=\"OrRd\", annot=True, fmt='g')\n",
        "plt.show()"
      ]
    },
    {
      "cell_type": "markdown",
      "source": [
        "We can observe that due to class imbalance, logistic regression is only predicting the most dominant class which is class 2"
      ],
      "metadata": {
        "id": "DmFdWcLNgK1Z"
      }
    },
    {
      "cell_type": "markdown",
      "source": [
        "Trying Randomforest for the multiclass classification problem"
      ],
      "metadata": {
        "id": "XJ1Du94If-0U"
      }
    },
    {
      "cell_type": "code",
      "source": [
        "from sklearn.ensemble import RandomForestClassifier\n",
        "\n",
        "clf = RandomForestClassifier(max_depth=2, random_state=0, class_weight='balanced').fit(train_data_debug,y_train_debug)"
      ],
      "metadata": {
        "id": "uTERfGFL0oZE"
      },
      "execution_count": null,
      "outputs": []
    },
    {
      "cell_type": "code",
      "source": [
        "y_train_pred_debug = clf.predict(train_data_debug)\n",
        "y_test_pred_debug = clf.predict(test_data_debug)"
      ],
      "metadata": {
        "id": "4855vd8_1Hrb"
      },
      "execution_count": null,
      "outputs": []
    },
    {
      "cell_type": "code",
      "source": [
        "con_matrix = pd.crosstab(pd.Series(y_test_debug.values.flatten(), name='Actual' ),pd.Series(y_test_pred_debug, name='Predicted'))\n",
        "plt.figure(figsize = (9,6))\n",
        "plt.title(\"Confusion Matrix for Random Forest\")\n",
        "sns.heatmap(con_matrix, cmap=\"OrRd\", annot=True, fmt='g')\n",
        "plt.show()"
      ],
      "metadata": {
        "colab": {
          "base_uri": "https://localhost:8080/",
          "height": 404
        },
        "outputId": "80b51b37-1a32-4c69-e8a2-cb31099e3c33",
        "id": "TOay0V_g1Kt4"
      },
      "execution_count": null,
      "outputs": [
        {
          "output_type": "display_data",
          "data": {
            "text/plain": [
              "<Figure size 648x432 with 2 Axes>"
            ],
            "image/png": "[encoded data removed]"
          },
          "metadata": {
            "needs_background": "light"
          }
        }
      ]
    },
    {
      "cell_type": "markdown",
      "source": [
        "We have obtained better results from the Random Forest Classifier as compared to the logistic regression classifier"
      ],
      "metadata": {
        "id": "H1lZ9gf0gT9w"
      }
    }
  ],
  "metadata": {
    "accelerator": "GPU",
    "colab": {
      "provenance": [],
      "collapsed_sections": [
        "PmbvSsOvm2gu",
        "VhM-PufFusQm",
        "RjYIiZARHotz",
        "yO3DTHFG6L6e",
        "2VzXeTqij60y"
      ]
    },
    "gpuClass": "standard",
    "kernelspec": {
      "display_name": "Python 3",
      "name": "python3"
    },
    "language_info": {
      "name": "python"
    }
  },
  "nbformat": 4,
  "nbformat_minor": 0
}