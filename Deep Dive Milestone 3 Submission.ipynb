{
 "cells": [
  {
   "cell_type": "markdown",
   "id": "7136105b-5376-4d80-a96e-b20371753c65",
   "metadata": {},
   "source": [
    "# Import Libraries"
   ]
  },
  {
   "cell_type": "code",
   "execution_count": 1,
   "id": "fb1e18da-f3b1-4848-b0f9-c07ea5401a6d",
   "metadata": {},
   "outputs": [],
   "source": [
    "import pandas as pd\n",
    "import numpy as np\n",
    "import matplotlib.pyplot as plt\n",
    "import seaborn as sns\n",
    "from sklearn.metrics import roc_auc_score\n",
    "from sklearn.model_selection import train_test_split\n",
    "from sklearn.linear_model import LogisticRegression\n",
    "from sklearn.ensemble import RandomForestClassifier\n",
    "import torch\n",
    "from torch import nn\n",
    "import warnings\n",
    "from keras.utils import to_categorical \n",
    "from keras.models import Sequential\n",
    "from keras.layers import Dense,Activation,Dropout,BatchNormalization\n",
    "from keras.wrappers.scikit_learn import KerasClassifier\n",
    "from keras.utils import np_utils\n",
    "from sklearn.model_selection import cross_val_score\n",
    "from sklearn.model_selection import KFold\n",
    "import tensorflow as tf\n",
    "from tensorflow import keras\n",
    "from tensorflow.keras import layers\n",
    "import math\n",
    "from sklearn.metrics import classification_report, confusion_matrix, accuracy_score\n",
    "\n",
    "warnings.filterwarnings('ignore')"
   ]
  },
  {
   "cell_type": "code",
   "execution_count": null,
   "id": "55d55d26-6df6-44df-b13e-00a790cc6555",
   "metadata": {},
   "outputs": [],
   "source": [
    "from pydrive.auth import GoogleAuth\n",
    "from google.colab import drive\n",
    "from pydrive.drive import GoogleDrive\n",
    "from google.colab import auth\n",
    "from oauth2client.client import GoogleCredentials\n",
    "\n",
    "auth.authenticate_user()\n",
    "gauth = GoogleAuth()\n",
    "gauth.credentials = GoogleCredentials.get_application_default()\n",
    "drive = GoogleDrive(gauth)"
   ]
  },
  {
   "cell_type": "markdown",
   "id": "90d858a2-3f74-4ade-a8d6-9623614ae9e5",
   "metadata": {},
   "source": [
    "-------------------"
   ]
  },
  {
   "cell_type": "markdown",
   "id": "20a15959-eed3-430f-ac67-e4d229045517",
   "metadata": {},
   "source": [
    "# Access Data"
   ]
  },
  {
   "cell_type": "markdown",
   "id": "29661023-92ef-4a84-8448-80d791aa27d6",
   "metadata": {},
   "source": [
    "Accessing Data through Pickle File "
   ]
  },
  {
   "cell_type": "code",
   "execution_count": null,
   "id": "dce74a4a-fef5-4cd3-ac18-89398596ea55",
   "metadata": {},
   "outputs": [],
   "source": [
    "file_id = '1iNTFeAEgyIVzXENvR6Hogg3sNSfIZPkX'\n",
    "download = drive.CreateFile({'id': file_id})\n",
    "download.GetContentFile('data.pkl')"
   ]
  },
  {
   "cell_type": "code",
   "execution_count": 2,
   "id": "c5a72eda-07f1-4412-81d9-9adf1ca18490",
   "metadata": {},
   "outputs": [
    {
     "data": {
      "text/html": [
       "<div>\n",
       "<style scoped>\n",
       "    .dataframe tbody tr th:only-of-type {\n",
       "        vertical-align: middle;\n",
       "    }\n",
       "\n",
       "    .dataframe tbody tr th {\n",
       "        vertical-align: top;\n",
       "    }\n",
       "\n",
       "    .dataframe thead th {\n",
       "        text-align: right;\n",
       "    }\n",
       "</style>\n",
       "<table border=\"1\" class=\"dataframe\">\n",
       "  <thead>\n",
       "    <tr style=\"text-align: right;\">\n",
       "      <th></th>\n",
       "      <th>ID</th>\n",
       "      <th>Case Number</th>\n",
       "      <th>Date</th>\n",
       "      <th>Block</th>\n",
       "      <th>IUCR</th>\n",
       "      <th>Primary Type</th>\n",
       "      <th>Description</th>\n",
       "      <th>Location Description</th>\n",
       "      <th>Arrest</th>\n",
       "      <th>Domestic</th>\n",
       "      <th>...</th>\n",
       "      <th>Community Area</th>\n",
       "      <th>FBI Code</th>\n",
       "      <th>X Coordinate</th>\n",
       "      <th>Y Coordinate</th>\n",
       "      <th>Year</th>\n",
       "      <th>Updated On</th>\n",
       "      <th>Latitude</th>\n",
       "      <th>Longitude</th>\n",
       "      <th>Location</th>\n",
       "      <th>tsDate</th>\n",
       "    </tr>\n",
       "  </thead>\n",
       "  <tbody>\n",
       "    <tr>\n",
       "      <th>0</th>\n",
       "      <td>10224738</td>\n",
       "      <td>HY411648</td>\n",
       "      <td>2015-09-05 13:30:00</td>\n",
       "      <td>043XX S WOOD ST</td>\n",
       "      <td>0486</td>\n",
       "      <td>BATTERY</td>\n",
       "      <td>DOMESTIC BATTERY SIMPLE</td>\n",
       "      <td>RESIDENCE</td>\n",
       "      <td>False</td>\n",
       "      <td>True</td>\n",
       "      <td>...</td>\n",
       "      <td>61.0</td>\n",
       "      <td>08B</td>\n",
       "      <td>1165074.0</td>\n",
       "      <td>1875917.0</td>\n",
       "      <td>2015</td>\n",
       "      <td>02/10/2018 03:50:01 PM</td>\n",
       "      <td>41.815117</td>\n",
       "      <td>-87.670000</td>\n",
       "      <td>(41.815117282, -87.669999562)</td>\n",
       "      <td>1441459800</td>\n",
       "    </tr>\n",
       "    <tr>\n",
       "      <th>1</th>\n",
       "      <td>10224739</td>\n",
       "      <td>HY411615</td>\n",
       "      <td>2015-09-04 11:30:00</td>\n",
       "      <td>008XX N CENTRAL AVE</td>\n",
       "      <td>0870</td>\n",
       "      <td>THEFT</td>\n",
       "      <td>POCKET-PICKING</td>\n",
       "      <td>CTA BUS</td>\n",
       "      <td>False</td>\n",
       "      <td>False</td>\n",
       "      <td>...</td>\n",
       "      <td>25.0</td>\n",
       "      <td>06</td>\n",
       "      <td>1138875.0</td>\n",
       "      <td>1904869.0</td>\n",
       "      <td>2015</td>\n",
       "      <td>02/10/2018 03:50:01 PM</td>\n",
       "      <td>41.895080</td>\n",
       "      <td>-87.765400</td>\n",
       "      <td>(41.895080471, -87.765400451)</td>\n",
       "      <td>1441366200</td>\n",
       "    </tr>\n",
       "    <tr>\n",
       "      <th>2</th>\n",
       "      <td>11646166</td>\n",
       "      <td>JC213529</td>\n",
       "      <td>2018-09-01 00:01:00</td>\n",
       "      <td>082XX S INGLESIDE AVE</td>\n",
       "      <td>0810</td>\n",
       "      <td>THEFT</td>\n",
       "      <td>OVER $500</td>\n",
       "      <td>RESIDENCE</td>\n",
       "      <td>False</td>\n",
       "      <td>True</td>\n",
       "      <td>...</td>\n",
       "      <td>44.0</td>\n",
       "      <td>06</td>\n",
       "      <td>NaN</td>\n",
       "      <td>NaN</td>\n",
       "      <td>2018</td>\n",
       "      <td>04/06/2019 04:04:43 PM</td>\n",
       "      <td>NaN</td>\n",
       "      <td>NaN</td>\n",
       "      <td>NaN</td>\n",
       "      <td>1535760060</td>\n",
       "    </tr>\n",
       "    <tr>\n",
       "      <th>3</th>\n",
       "      <td>10224740</td>\n",
       "      <td>HY411595</td>\n",
       "      <td>2015-09-05 12:45:00</td>\n",
       "      <td>035XX W BARRY AVE</td>\n",
       "      <td>2023</td>\n",
       "      <td>NARCOTICS</td>\n",
       "      <td>POSS: HEROIN(BRN/TAN)</td>\n",
       "      <td>SIDEWALK</td>\n",
       "      <td>True</td>\n",
       "      <td>False</td>\n",
       "      <td>...</td>\n",
       "      <td>21.0</td>\n",
       "      <td>18</td>\n",
       "      <td>1152037.0</td>\n",
       "      <td>1920384.0</td>\n",
       "      <td>2015</td>\n",
       "      <td>02/10/2018 03:50:01 PM</td>\n",
       "      <td>41.937406</td>\n",
       "      <td>-87.716650</td>\n",
       "      <td>(41.937405765, -87.716649687)</td>\n",
       "      <td>1441457100</td>\n",
       "    </tr>\n",
       "    <tr>\n",
       "      <th>4</th>\n",
       "      <td>10224741</td>\n",
       "      <td>HY411610</td>\n",
       "      <td>2015-09-05 13:00:00</td>\n",
       "      <td>0000X N LARAMIE AVE</td>\n",
       "      <td>0560</td>\n",
       "      <td>ASSAULT</td>\n",
       "      <td>SIMPLE</td>\n",
       "      <td>APARTMENT</td>\n",
       "      <td>False</td>\n",
       "      <td>True</td>\n",
       "      <td>...</td>\n",
       "      <td>25.0</td>\n",
       "      <td>08A</td>\n",
       "      <td>1141706.0</td>\n",
       "      <td>1900086.0</td>\n",
       "      <td>2015</td>\n",
       "      <td>02/10/2018 03:50:01 PM</td>\n",
       "      <td>41.881903</td>\n",
       "      <td>-87.755121</td>\n",
       "      <td>(41.881903443, -87.755121152)</td>\n",
       "      <td>1441458000</td>\n",
       "    </tr>\n",
       "  </tbody>\n",
       "</table>\n",
       "<p>5 rows × 23 columns</p>\n",
       "</div>"
      ],
      "text/plain": [
       "         ID Case Number                Date                  Block  IUCR  \\\n",
       "0  10224738    HY411648 2015-09-05 13:30:00        043XX S WOOD ST  0486   \n",
       "1  10224739    HY411615 2015-09-04 11:30:00    008XX N CENTRAL AVE  0870   \n",
       "2  11646166    JC213529 2018-09-01 00:01:00  082XX S INGLESIDE AVE  0810   \n",
       "3  10224740    HY411595 2015-09-05 12:45:00      035XX W BARRY AVE  2023   \n",
       "4  10224741    HY411610 2015-09-05 13:00:00    0000X N LARAMIE AVE  0560   \n",
       "\n",
       "  Primary Type              Description Location Description  Arrest  \\\n",
       "0      BATTERY  DOMESTIC BATTERY SIMPLE            RESIDENCE   False   \n",
       "1        THEFT           POCKET-PICKING              CTA BUS   False   \n",
       "2        THEFT                OVER $500            RESIDENCE   False   \n",
       "3    NARCOTICS    POSS: HEROIN(BRN/TAN)             SIDEWALK    True   \n",
       "4      ASSAULT                   SIMPLE            APARTMENT   False   \n",
       "\n",
       "   Domestic  ...  Community Area  FBI Code  X Coordinate  Y Coordinate  Year  \\\n",
       "0      True  ...            61.0       08B     1165074.0     1875917.0  2015   \n",
       "1     False  ...            25.0        06     1138875.0     1904869.0  2015   \n",
       "2      True  ...            44.0        06           NaN           NaN  2018   \n",
       "3     False  ...            21.0        18     1152037.0     1920384.0  2015   \n",
       "4      True  ...            25.0       08A     1141706.0     1900086.0  2015   \n",
       "\n",
       "               Updated On   Latitude  Longitude  \\\n",
       "0  02/10/2018 03:50:01 PM  41.815117 -87.670000   \n",
       "1  02/10/2018 03:50:01 PM  41.895080 -87.765400   \n",
       "2  04/06/2019 04:04:43 PM        NaN        NaN   \n",
       "3  02/10/2018 03:50:01 PM  41.937406 -87.716650   \n",
       "4  02/10/2018 03:50:01 PM  41.881903 -87.755121   \n",
       "\n",
       "                        Location      tsDate  \n",
       "0  (41.815117282, -87.669999562)  1441459800  \n",
       "1  (41.895080471, -87.765400451)  1441366200  \n",
       "2                            NaN  1535760060  \n",
       "3  (41.937405765, -87.716649687)  1441457100  \n",
       "4  (41.881903443, -87.755121152)  1441458000  \n",
       "\n",
       "[5 rows x 23 columns]"
      ]
     },
     "execution_count": 2,
     "metadata": {},
     "output_type": "execute_result"
    }
   ],
   "source": [
    "data = pd.read_pickle(\"data.pkl\")\n",
    "data.head()"
   ]
  },
  {
   "cell_type": "markdown",
   "id": "ee68a030-a08e-49fd-a638-870659ec3d18",
   "metadata": {},
   "source": [
    "-----------"
   ]
  },
  {
   "cell_type": "markdown",
   "id": "c2052bac-1a83-4989-8c00-17e7b944f983",
   "metadata": {},
   "source": [
    "# Preprocess Data"
   ]
  },
  {
   "cell_type": "markdown",
   "id": "c8792ede-b5fe-40ec-9b93-d83537523aa7",
   "metadata": {},
   "source": [
    "We preprocess the data by performing the following steps :  \n",
    "- Filter data for the last 5 years only, as we didn't have enough resources (RAM space) to perform operations and train our model using the full dataset.\n",
    "- Drop rows which have missing Location Description, Latitude and Longitude.\n",
    "- Convert and change datatypes of a few columns for ease of interpretation.\n"
   ]
  },
  {
   "cell_type": "code",
   "execution_count": 3,
   "id": "2eb93e6c-6fa4-4f8f-8e34-caf72781dbe4",
   "metadata": {},
   "outputs": [],
   "source": [
    "def df_preproc(data, final_col_list):\n",
    "    data = data.loc[data[\"Year\"]>2017]\n",
    "    \n",
    "    data = data.dropna(subset=['Location Description','Latitude','Longitude'])\n",
    "    data = data.loc[:, final_col_list]\n",
    "    \n",
    "    data[['Beat','Year', 'Community Area', 'Ward', 'District']] = data[['Beat','Year', 'Community Area', 'Ward', 'District']].astype(str)\n",
    "    data[\"Arrest\"] = data[\"Arrest\"].astype(str)\n",
    "    data[\"Domestic\"] = data[\"Domestic\"].astype(str)\n",
    "    data['tsDate'] = data['tsDate'].astype(float)\n",
    "\n",
    "    return data"
   ]
  },
  {
   "cell_type": "markdown",
   "id": "9a4480f3-716f-466c-94b3-1ec93cf9d24e",
   "metadata": {},
   "source": [
    "Creating a final list of features to be used in our deep learning model."
   ]
  },
  {
   "cell_type": "code",
   "execution_count": 4,
   "id": "9db8a79e-3fc4-4b3c-9f57-984966f178e6",
   "metadata": {},
   "outputs": [],
   "source": [
    "final_col_list = [\n",
    "    \"Latitude\",\n",
    "    \"Longitude\",\n",
    "    \"tsDate\",\n",
    "    \"Year\",\n",
    "    \"Arrest\",\n",
    "    \"Beat\",\n",
    "    \"Domestic\",\n",
    "    'Community Area',\n",
    "    \"FBI Code\",\n",
    "    'Ward', \n",
    "    'District', \n",
    "    \"Location Description\",\n",
    "    \"Primary Type\"\n",
    "]\n",
    "\n",
    "data = df_preproc(data, final_col_list)"
   ]
  },
  {
   "cell_type": "markdown",
   "id": "752aad5c-019d-4fcf-879a-918ac512120f",
   "metadata": {},
   "source": [
    "As we observed in our EDA, there is a severe class imbalance in the dataset with a few classes having extremely sparse data. We have decided to group the crime type column (having 36 classes) into 6 super classes so that we can have a more balanced target variable. The groups are shown in the code below ."
   ]
  },
  {
   "cell_type": "code",
   "execution_count": 5,
   "id": "bf8616f6-fbbb-4fd6-ba9c-2894d4df08a0",
   "metadata": {},
   "outputs": [],
   "source": [
    "CrimeMap = {\n",
    "# Drug crimes\n",
    "'NARCOTICS':0,\n",
    "'OTHER NARCOTIC VIOLATION':0,\n",
    "\n",
    "# Property crimes\n",
    "'CRIMINAL DAMAGE':1,\n",
    "'ARSON':1,\n",
    "'MOTOR VEHICLE THEFT':1,\n",
    "'THEFT':1,\n",
    "'BURGLARY':1,\n",
    "'ROBBERY':1,\n",
    "\n",
    "# Sexual crimes\n",
    "'PROSTITUTION':2,\n",
    "'CRIM SEXUAL ASSAULT':2,\n",
    "'SEX OFFENSE':2,\n",
    "'CRIMINAL SEXUAL ASSAULT':2,\n",
    "\n",
    "# Stautory crimes\n",
    "'CRIMINAL TRESPASS':3,\n",
    "'OTHER OFFENSE':3,\n",
    "'DECEPTIVE PRACTICE':3,\n",
    "'PUBLIC PEACE VIOLATION':3,\n",
    "'LIQUOR LAW VIOLATION':3,\n",
    "'INTERFERENCE WITH PUBLIC OFFICER':3,\n",
    "'GAMBLING':3,\n",
    "'NON - CRIMINAL':3,\n",
    "'PUBLIC INDECENCY':3,\n",
    "'NON-CRIMINAL':3,\n",
    "'OBSCENITY':3,\n",
    "'RITUALISM':3,\n",
    "'NON-CRIMINAL (SUBJECT SPECIFIED)':3,\n",
    "'STALKING':3,\n",
    "'INTIMIDATION':3,\n",
    "\n",
    "# Violent crimes\n",
    "'ASSAULT':4,\n",
    "'BATTERY':4,\n",
    "'HOMICIDE':4,\n",
    "'DOMESTIC VIOLENCE':4,\n",
    "'KIDNAPPING':4,\n",
    "'HUMAN TRAFFICKING':4,\n",
    "'OFFENSE INVOLVING CHILDREN':4,\n",
    "\n",
    "# Weapons related crimes\n",
    "'WEAPONS VIOLATION':5,\n",
    "'CONCEALED CARRY LICENSE VIOLATION':5,\n",
    "}"
   ]
  },
  {
   "cell_type": "code",
   "execution_count": 6,
   "id": "8d061f07-c09d-4196-9169-76145a630dd9",
   "metadata": {},
   "outputs": [],
   "source": [
    "data['Primary Type'] = data['Primary Type'].map(CrimeMap)"
   ]
  },
  {
   "cell_type": "markdown",
   "id": "a70c5a2d-9e7f-40ef-90a0-0f7538e3416e",
   "metadata": {},
   "source": [
    "-------------------------------------------"
   ]
  },
  {
   "cell_type": "markdown",
   "id": "01fbf6ef-25ae-45e4-85d9-a2b623bb81e7",
   "metadata": {},
   "source": [
    "# Train, Validation and Test Split"
   ]
  },
  {
   "cell_type": "markdown",
   "id": "4f8ee2e4-6d9e-4626-aed4-cea3aaf404c8",
   "metadata": {},
   "source": [
    "Now with our new target variable, let us divide our dataset into train, test and validation sets."
   ]
  },
  {
   "cell_type": "code",
   "execution_count": 7,
   "id": "ff0873ea-fa53-469a-9a31-716da61a2f79",
   "metadata": {},
   "outputs": [],
   "source": [
    "n_class = 6"
   ]
  },
  {
   "cell_type": "code",
   "execution_count": 8,
   "id": "4cf868bf-e367-4870-a1e9-9c253bfa9b8d",
   "metadata": {},
   "outputs": [],
   "source": [
    "X = data.copy()\n",
    "y_label = X['Primary Type']\n",
    "X = X.drop(['Primary Type'], axis = 1)\n",
    "X = pd.get_dummies(X, drop_first=True)"
   ]
  },
  {
   "cell_type": "code",
   "execution_count": 13,
   "id": "d0781128-0411-48f8-8aa1-af36f24964d1",
   "metadata": {},
   "outputs": [],
   "source": [
    "X_train, X_test, y_train, y_test = train_test_split(X, y_label, test_size = 0.2, random_state = 42)\n",
    "\n",
    "X_train_1, X_val, y_train_1, y_val = train_test_split(X_train, y_train, test_size = 0.2, random_state = 42)"
   ]
  },
  {
   "cell_type": "markdown",
   "id": "ea1ca69c-1387-4d3a-844f-6286202d2452",
   "metadata": {},
   "source": [
    "We perform one-hot encoding on the target labels."
   ]
  },
  {
   "cell_type": "code",
   "execution_count": 14,
   "id": "11e88850-ae08-4aea-b208-8a47d8f1fd67",
   "metadata": {},
   "outputs": [],
   "source": [
    "y_train_onehot = to_categorical(y_train_1, num_classes = n_class)\n",
    "input_size = X_train_1.shape[1]"
   ]
  },
  {
   "cell_type": "markdown",
   "id": "442fdf86-a018-4eca-a9fa-593eb800f875",
   "metadata": {},
   "source": [
    "------------"
   ]
  },
  {
   "cell_type": "markdown",
   "id": "e5c72939-b887-48dc-af68-e05d5088df32",
   "metadata": {},
   "source": [
    "# Base Models"
   ]
  },
  {
   "cell_type": "markdown",
   "id": "2a49f7f8-da7b-4a23-b228-ddb3134e2d4d",
   "metadata": {},
   "source": [
    "## Logistic Regression"
   ]
  },
  {
   "cell_type": "code",
   "execution_count": 20,
   "id": "d403d530-8c4b-47f7-8193-3f401a30061a",
   "metadata": {},
   "outputs": [],
   "source": [
    "lg = LogisticRegression(multi_class='multinomial', solver = 'lbfgs').fit(X_train, y_train)"
   ]
  },
  {
   "cell_type": "code",
   "execution_count": 21,
   "id": "e8f8f967-1cd0-4a80-8d50-97dc19a1abe8",
   "metadata": {},
   "outputs": [],
   "source": [
    "y_pred = lg.predict(X_test)"
   ]
  },
  {
   "cell_type": "code",
   "execution_count": 22,
   "id": "d26dd1ff-0858-471e-973d-de0027325755",
   "metadata": {},
   "outputs": [
    {
     "data": {
      "image/png": "[encoded data removed]",
      "text/plain": [
       "<Figure size 648x432 with 2 Axes>"
      ]
     },
     "metadata": {
      "needs_background": "light"
     },
     "output_type": "display_data"
    }
   ],
   "source": [
    "con_matrix = pd.crosstab(\n",
    "    pd.Series(y_test.values.flatten(), name = 'Actual'),\n",
    "    pd.Series(y_pred, name = 'Predicted')\n",
    ")\n",
    "plt.figure(figsize = (9,6))\n",
    "plt.title(\"Confusion Matrix for Logistic Regression\")\n",
    "sns.heatmap(con_matrix, cmap=\"OrRd\", annot=True, fmt='g')\n",
    "plt.show()"
   ]
  },
  {
   "cell_type": "code",
   "execution_count": 23,
   "id": "d323472d-3b1f-47bb-b696-d8c4a7b3c771",
   "metadata": {},
   "outputs": [
    {
     "name": "stdout",
     "output_type": "stream",
     "text": [
      "Accuracy on Testing set: 0.4595149186419887\n",
      "Precision on Testing set: 0.07658581977366478\n",
      "F1 score on Testing set: 0.10494695024415969\n",
      "Recall on Testing set: 0.16666666666666666\n"
     ]
    }
   ],
   "source": [
    "report = classification_report(y_test, y_pred, output_dict = True)\n",
    "print(\"Accuracy on Testing set: \" + str(report['accuracy']))\n",
    "print(\"Precision on Testing set: \" + str(report['macro avg']['precision']))\n",
    "print(\"F1 score on Testing set: \" + str(report['macro avg']['f1-score']))\n",
    "print(\"Recall on Testing set: \" + str(report['macro avg']['recall']))"
   ]
  },
  {
   "cell_type": "markdown",
   "id": "79c639c2-5c61-4c76-bca1-8f9eede1a2f7",
   "metadata": {},
   "source": [
    "We can observe that due to class imbalance, logistic regression is only predicting the most dominant class which is class 1."
   ]
  },
  {
   "cell_type": "markdown",
   "id": "1e73e98a-d1f4-40f2-a6af-3bb7882c1e02",
   "metadata": {},
   "source": [
    "## Random Forest"
   ]
  },
  {
   "cell_type": "markdown",
   "id": "3d475528-11ec-457d-8850-39c72d55ca27",
   "metadata": {},
   "source": [
    "Next, we try Randomforest for the multiclass classification problem."
   ]
  },
  {
   "cell_type": "code",
   "execution_count": 24,
   "id": "272f07f9-4497-48a9-9461-b5ead300c810",
   "metadata": {},
   "outputs": [],
   "source": [
    "clf = RandomForestClassifier(\n",
    "    max_depth=2, \n",
    "    random_state=0, \n",
    "    class_weight='balanced'\n",
    ").fit(X_train, y_train)\n",
    "\n",
    "y_pred = clf.predict(X_test)"
   ]
  },
  {
   "cell_type": "code",
   "execution_count": 19,
   "id": "96da718f-efa5-4f1a-b10b-cf59f2f35463",
   "metadata": {},
   "outputs": [
    {
     "data": {
      "image/png": "[encoded data removed]",
      "text/plain": [
       "<Figure size 648x432 with 2 Axes>"
      ]
     },
     "metadata": {
      "needs_background": "light"
     },
     "output_type": "display_data"
    }
   ],
   "source": [
    "con_matrix = pd.crosstab(\n",
    "    pd.Series(y_test.values.flatten(), name = 'Actual'),\n",
    "    pd.Series(y_pred, name = 'Predicted')\n",
    ")\n",
    "plt.figure(figsize = (9,6))\n",
    "plt.title(\"Confusion Matrix for Random Forest\")\n",
    "sns.heatmap(con_matrix, cmap=\"OrRd\", annot=True, fmt='g')\n",
    "plt.show()"
   ]
  },
  {
   "cell_type": "code",
   "execution_count": 25,
   "id": "73a59dfe-6755-4beb-b1b7-fedea496611f",
   "metadata": {},
   "outputs": [
    {
     "name": "stdout",
     "output_type": "stream",
     "text": [
      "Accuracy on Testing set: 0.9727739293574341\n",
      "Precision on Testing set: 0.9251273895065641\n",
      "F1 score on Testing set: 0.9464101595723897\n",
      "Recall on Testing set: 0.9728918448304212\n"
     ]
    }
   ],
   "source": [
    "report = classification_report(y_test, y_pred, output_dict = True)\n",
    "print(\"Accuracy on Testing set: \" + str(report['accuracy']))\n",
    "print(\"Precision on Testing set: \" + str(report['macro avg']['precision']))\n",
    "print(\"F1 score on Testing set: \" + str(report['macro avg']['f1-score']))\n",
    "print(\"Recall on Testing set: \" + str(report['macro avg']['recall']))"
   ]
  },
  {
   "cell_type": "markdown",
   "id": "7bda7d5c-8e4a-4f03-95fc-230699c0537b",
   "metadata": {},
   "source": [
    "We have obtained better results from the Random Forest Classifier as compared to the logistic regression classifier."
   ]
  },
  {
   "cell_type": "markdown",
   "id": "ee4317fb-c2b7-4691-a4dd-e7631ad84154",
   "metadata": {},
   "source": [
    "--------------"
   ]
  },
  {
   "cell_type": "markdown",
   "id": "697118c4-172b-4def-b98b-5f5f17fba0bd",
   "metadata": {},
   "source": [
    "# Neural Network Model"
   ]
  },
  {
   "cell_type": "markdown",
   "id": "eee06d8c-f776-4d83-9480-79542b5512cc",
   "metadata": {},
   "source": [
    "We create a function for ease of creating a model multiple times."
   ]
  },
  {
   "cell_type": "markdown",
   "id": "d5654ff1-255b-49ac-a887-557517e1c598",
   "metadata": {},
   "source": [
    "Our neural network consists of 1 batch normalising layer, 2 hidden layers, 1 dropout layer, and 1 output layer. \n",
    "\n",
    "The Batch Normalization layer is the first layer. The parameter ```epsilon``` is added to variance to avoid dividing by zero.\n",
    "\n",
    "The first hidden layer has 64 nodes, while the second layer has 32 nodes. We have used ReLU as the activation function on these layers. \n",
    "\n",
    "We then have a dropout layer, with ```rate``` as 0.5.\n",
    "\n",
    "The final otput layer has 6 nodes, which is equal to the number of classes. We use softmax as our activation on the final layer, since we want to output the individual class probabilities. "
   ]
  },
  {
   "cell_type": "code",
   "execution_count": 11,
   "id": "c33b418d-2cd4-4c67-9083-28e38addc03a",
   "metadata": {},
   "outputs": [],
   "source": [
    "def get_model(input_size):\n",
    "    model = Sequential()\n",
    "    model.add(BatchNormalization(epsilon = 0.001))\n",
    "    model.add(Dense(64, activation='relu', input_dim=input_size))\n",
    "    model.add(Dense(32, activation='relu'))\n",
    "    model.add(Dropout(0.5))\n",
    "    model.add(Dense(6, activation='softmax'))\n",
    "    return model"
   ]
  },
  {
   "cell_type": "markdown",
   "id": "05f4f61d-fca1-4bf9-8acf-d709a388a63a",
   "metadata": {},
   "source": [
    "## Testing for various Optimizers, Batch Size, and other hyperparameters"
   ]
  },
  {
   "cell_type": "markdown",
   "id": "0ea960a1-bea8-42ed-9556-d1d975886299",
   "metadata": {},
   "source": [
    "We test for various optimizers, batch sizes and learning rates. Based on the results on the validation set, we will choose the best set of hyperparameters for our model."
   ]
  },
  {
   "cell_type": "code",
   "execution_count": 12,
   "id": "945481a0-d598-40da-bb1f-0ae0eb518733",
   "metadata": {},
   "outputs": [],
   "source": [
    "optim_list = [\"SGD\", \"Adam\", \"RMSprop\"]\n",
    "batch_size_list = [2**8, 2**10, 2**14, 2**15]\n",
    "learning_rate_list = [0.001, 0.01, 0.1, 0.5, 0.9]"
   ]
  },
  {
   "cell_type": "code",
   "execution_count": 19,
   "id": "39b5342a-24d7-46d0-83cf-60eff6e2e3bf",
   "metadata": {},
   "outputs": [
    {
     "name": "stdout",
     "output_type": "stream",
     "text": [
      "Using optimizer: SGD\n",
      "Accuracy Score on Validation Set: 0.7958385243729882\n",
      "Using optimizer: Adam\n",
      "Accuracy Score on Validation Set: 0.9825524694315882\n",
      "Using optimizer: RMSprop\n",
      "Accuracy Score on Validation Set: 0.9821916804311429\n"
     ]
    }
   ],
   "source": [
    "for optim in optim_list:\n",
    "    print(\"Using optimizer: \" + optim)\n",
    "    model = get_model(input_size)\n",
    "    \n",
    "    model.compile(optimizer=optim, \n",
    "              loss='categorical_crossentropy', \n",
    "              metrics=['categorical_accuracy'])\n",
    "    \n",
    "    model.fit(X_train_1, y_train_onehot, epochs=10, batch_size = 2**14, verbose = 0)\n",
    "    \n",
    "    y_pred = model.predict(X_val, verbose = 0)\n",
    "    pred_class = np.argmax(y_pred, axis=1)\n",
    "    print(\"Accuracy Score on Validation Set: \" + str(accuracy_score(y_val, pred_class)))"
   ]
  },
  {
   "cell_type": "markdown",
   "id": "90014a07-d2cc-4860-a762-c795283758e0",
   "metadata": {},
   "source": [
    "We observe that RMSprop gives us better accuracy than SGD and Adam on our validation set."
   ]
  },
  {
   "cell_type": "code",
   "execution_count": 20,
   "id": "30a9962c-c241-40f1-a45d-6707856d9282",
   "metadata": {},
   "outputs": [
    {
     "name": "stdout",
     "output_type": "stream",
     "text": [
      "Using batch size: 256\n",
      "Accuracy Score: 0.9828794344632418\n",
      "Using batch size: 1024\n",
      "Accuracy Score: 0.9832345861355551\n",
      "Using batch size: 16384\n",
      "Accuracy Score: 0.9812389719768418\n",
      "Using batch size: 32768\n",
      "Accuracy Score: 0.969513329462368\n"
     ]
    }
   ],
   "source": [
    "for batch_size in batch_size_list:\n",
    "    print(\"Using batch size: \" + str(batch_size))\n",
    "    model = get_model(input_size)\n",
    "    \n",
    "    model.compile(optimizer=\"rmsprop\", \n",
    "              loss='categorical_crossentropy', \n",
    "              metrics=['categorical_accuracy'])\n",
    "    \n",
    "    model.fit(X_train_1, y_train_onehot, epochs=10, batch_size = batch_size, verbose = 0)\n",
    "    \n",
    "    y_pred = model.predict(X_val, verbose = 0)\n",
    "    pred_class = np.argmax(y_pred, axis=1)\n",
    "    print(\"Accuracy Score: \" + str(accuracy_score(y_val, pred_class)))"
   ]
  },
  {
   "cell_type": "markdown",
   "id": "3e39e26c-86a0-4c63-8936-340f65d620cb",
   "metadata": {},
   "source": [
    "Next, we see that setting batch size as 1024 gives a higher accuracy."
   ]
  },
  {
   "cell_type": "code",
   "execution_count": 13,
   "id": "2220ee2e-fe5e-409a-8e4d-afdb1e463474",
   "metadata": {},
   "outputs": [
    {
     "name": "stdout",
     "output_type": "stream",
     "text": [
      "Using learning rate: 0.001\n",
      "Accuracy Score: 0.9831782128542356\n",
      "Using learning rate: 0.01\n",
      "Accuracy Score: 0.9828963464476377\n",
      "Using learning rate: 0.1\n",
      "Accuracy Score: 0.4564319095321581\n",
      "Using learning rate: 0.5\n",
      "Accuracy Score: 0.4564319095321581\n",
      "Using learning rate: 0.9\n",
      "Accuracy Score: 0.29113417404686875\n"
     ]
    }
   ],
   "source": [
    "for lr in learning_rate_list:\n",
    "    print(\"Using learning rate: \" + str(lr))\n",
    "    model = get_model(input_size)\n",
    "    \n",
    "    model.compile(optimizer=tf.keras.optimizers.RMSprop(learning_rate = lr), \n",
    "              loss='categorical_crossentropy', \n",
    "              metrics=['categorical_accuracy'])\n",
    "    \n",
    "    model.fit(X_train_1, y_train_onehot, epochs=10, batch_size = 2**10, verbose = 0)\n",
    "    \n",
    "    y_pred = model.predict(X_val, verbose = 0)\n",
    "    pred_class = np.argmax(y_pred, axis=1)\n",
    "    print(\"Accuracy Score: \" + str(accuracy_score(y_val, pred_class)))"
   ]
  },
  {
   "cell_type": "markdown",
   "id": "3ae05ca8-5996-4cf2-b086-a9cc0983e1d9",
   "metadata": {},
   "source": [
    "Finally, using learning rate as 0.001 gives us better validation accuracy."
   ]
  },
  {
   "cell_type": "markdown",
   "id": "87df7642-7108-4715-b654-8bf58d93811f",
   "metadata": {},
   "source": [
    "-----------"
   ]
  },
  {
   "cell_type": "markdown",
   "id": "160a30ea-6a03-4cdb-be30-2f431580f010",
   "metadata": {},
   "source": [
    "# Final Results"
   ]
  },
  {
   "cell_type": "markdown",
   "id": "57da1d70-d071-4fa0-9550-00b980c75891",
   "metadata": {},
   "source": [
    "Now, we train on the entire training dataset and test our model results on the testing set."
   ]
  },
  {
   "cell_type": "code",
   "execution_count": 14,
   "id": "a8b16f8b-e5c8-463a-a927-b96599a7ea47",
   "metadata": {},
   "outputs": [],
   "source": [
    "y_onehot = to_categorical(y_train, num_classes = n_class)\n",
    "\n",
    "model = get_model(input_size)\n",
    "    \n",
    "model.compile(optimizer = tf.keras.optimizers.RMSprop(learning_rate = 0.001),\n",
    "              loss = 'categorical_crossentropy',\n",
    "              metrics = ['categorical_accuracy'])\n",
    "\n",
    "model.fit(X_train, y_onehot, epochs=10, batch_size = 2**10, validation_split = 0.2, verbose = 0)\n",
    "\n",
    "y_pred = model.predict(X_test, verbose = 0)\n",
    "pred_class = np.argmax(y_pred, axis=1)"
   ]
  },
  {
   "cell_type": "code",
   "execution_count": 20,
   "id": "15ea125c-1237-4f30-be66-843856abee55",
   "metadata": {},
   "outputs": [
    {
     "data": {
      "image/png": "[encoded data removed]",
      "text/plain": [
       "<Figure size 648x432 with 2 Axes>"
      ]
     },
     "metadata": {
      "needs_background": "light"
     },
     "output_type": "display_data"
    }
   ],
   "source": [
    "con_matrix = pd.crosstab(\n",
    "    pd.Series(y_test.values.flatten(), name = 'Actual'),\n",
    "    pd.Series(pred_class, name = 'Predicted')\n",
    ")\n",
    "plt.figure(figsize = (9,6))\n",
    "plt.title(\"Confusion Matrix for Neural Network Model\")\n",
    "sns.heatmap(con_matrix, cmap=\"OrRd\", annot=True, fmt='g')\n",
    "plt.show()"
   ]
  },
  {
   "cell_type": "code",
   "execution_count": 23,
   "id": "64cc50ef-0766-4556-88df-4cfbfa7173f8",
   "metadata": {},
   "outputs": [],
   "source": [
    "report = classification_report(y_test, pred_class, output_dict = True)"
   ]
  },
  {
   "cell_type": "code",
   "execution_count": 27,
   "id": "6da9b95e-bd53-46df-a03b-fd3a038602ae",
   "metadata": {},
   "outputs": [
    {
     "name": "stdout",
     "output_type": "stream",
     "text": [
      "Accuracy on Testing set: 0.9839989897896598\n",
      "Precision on Testing set: 0.9634209547494899\n",
      "F1 score on Testing set: 0.9725146034158173\n",
      "Recall on Testing set: 0.9843301442599247\n"
     ]
    }
   ],
   "source": [
    "print(\"Accuracy on Testing set: \" + str(report['accuracy']))\n",
    "print(\"Precision on Testing set: \" + str(report['macro avg']['precision']))\n",
    "print(\"F1 score on Testing set: \" + str(report['macro avg']['f1-score']))\n",
    "print(\"Recall on Testing set: \" + str(report['macro avg']['recall']))"
   ]
  },
  {
   "cell_type": "markdown",
   "id": "0c0c9583-8c1c-4adc-b4ed-a7affe0c267f",
   "metadata": {},
   "source": [
    "From the above confusion matrix and classification metrics, we see that our model performs very well on the dataset.\n",
    "It outperforms Logistic Regression and Random Forest."
   ]
  }
 ],
 "metadata": {
  "kernelspec": {
   "display_name": "Python 3 (ipykernel)",
   "language": "python",
   "name": "python3"
  },
  "language_info": {
   "codemirror_mode": {
    "name": "ipython",
    "version": 3
   },
   "file_extension": ".py",
   "mimetype": "text/x-python",
   "name": "python",
   "nbconvert_exporter": "python",
   "pygments_lexer": "ipython3",
   "version": "3.9.12"
  }
 },
 "nbformat": 4,
 "nbformat_minor": 5
}
